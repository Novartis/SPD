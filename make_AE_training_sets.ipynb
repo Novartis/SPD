{
 "cells": [
  {
   "cell_type": "markdown",
   "metadata": {},
   "source": [
    "# Notebook #2"
   ]
  },
  {
   "cell_type": "markdown",
   "metadata": {},
   "source": [
    "Jeffrey Sutherland\n",
    "4/19/2021"
   ]
  },
  {
   "cell_type": "code",
   "execution_count": 1,
   "metadata": {
    "collapsed": false,
    "execution": {
     "iopub.execute_input": "2023-04-19T17:41:45.731806Z",
     "iopub.status.busy": "2023-04-19T17:41:45.731153Z",
     "iopub.status.idle": "2023-04-19T17:41:46.443722Z",
     "shell.execute_reply": "2023-04-19T17:41:46.443307Z",
     "shell.execute_reply.started": "2023-04-19T17:41:45.731752Z"
    },
    "jupyter": {
     "outputs_hidden": false
    },
    "pycharm": {
     "is_executing": false,
     "name": "#%%\n"
    },
    "tags": []
   },
   "outputs": [],
   "source": [
    "import pandas as pd\n",
    "import pickle\n",
    "from collections import defaultdict"
   ]
  },
  {
   "cell_type": "code",
   "execution_count": 2,
   "metadata": {
    "execution": {
     "iopub.execute_input": "2023-04-19T17:41:46.444765Z",
     "iopub.status.busy": "2023-04-19T17:41:46.444495Z",
     "iopub.status.idle": "2023-04-19T17:41:46.446911Z",
     "shell.execute_reply": "2023-04-19T17:41:46.446599Z",
     "shell.execute_reply.started": "2023-04-19T17:41:46.444749Z"
    },
    "tags": []
   },
   "outputs": [],
   "source": [
    "PATH_DATA_INPUT = \"../data/input/\"\n",
    "PATH_DATA_INTERMEDIATE = \"../data/intermediate/\"\n",
    "PATH_DATA_OUTPUT = \"../data/output/\"\n",
    "PATH_MODELS = '../data/models/'\n",
    "\n",
    "# LLR threshold to consider when building FAERS dataset\n",
    "llr_thres = 2"
   ]
  },
  {
   "cell_type": "code",
   "execution_count": 3,
   "metadata": {
    "execution": {
     "iopub.execute_input": "2023-04-19T17:41:46.447507Z",
     "iopub.status.busy": "2023-04-19T17:41:46.447365Z",
     "iopub.status.idle": "2023-04-19T17:41:46.578854Z",
     "shell.execute_reply": "2023-04-19T17:41:46.578486Z",
     "shell.execute_reply.started": "2023-04-19T17:41:46.447494Z"
    },
    "pycharm": {
     "is_executing": false,
     "name": "#%%\n"
    },
    "tags": []
   },
   "outputs": [
    {
     "data": {
      "text/html": [
       "<div>\n",
       "<style scoped>\n",
       "    .dataframe tbody tr th:only-of-type {\n",
       "        vertical-align: middle;\n",
       "    }\n",
       "\n",
       "    .dataframe tbody tr th {\n",
       "        vertical-align: top;\n",
       "    }\n",
       "\n",
       "    .dataframe thead th {\n",
       "        text-align: right;\n",
       "    }\n",
       "</style>\n",
       "<table border=\"1\" class=\"dataframe\">\n",
       "  <thead>\n",
       "    <tr style=\"text-align: right;\">\n",
       "      <th></th>\n",
       "      <th>struct_id</th>\n",
       "      <th>drugcentral_name</th>\n",
       "      <th>meddra_PT</th>\n",
       "      <th>UniqueConcatenate(match_type)</th>\n",
       "      <th>UniqueConcatenate(stereo_id)</th>\n",
       "      <th>UniqueConcatenate(umls_meddra)</th>\n",
       "    </tr>\n",
       "  </thead>\n",
       "  <tbody>\n",
       "    <tr>\n",
       "      <th>0</th>\n",
       "      <td>513</td>\n",
       "      <td>levocarnitine</td>\n",
       "      <td>10000081</td>\n",
       "      <td>ATC+graph match</td>\n",
       "      <td>CID000010917</td>\n",
       "      <td>C0000729, C0000737</td>\n",
       "    </tr>\n",
       "    <tr>\n",
       "      <th>1</th>\n",
       "      <td>513</td>\n",
       "      <td>levocarnitine</td>\n",
       "      <td>10017999</td>\n",
       "      <td>ATC+graph match</td>\n",
       "      <td>CID000010917</td>\n",
       "      <td>C0687713</td>\n",
       "    </tr>\n",
       "    <tr>\n",
       "      <th>2</th>\n",
       "      <td>513</td>\n",
       "      <td>levocarnitine</td>\n",
       "      <td>10001906</td>\n",
       "      <td>ATC+graph match</td>\n",
       "      <td>CID000010917</td>\n",
       "      <td>C0002418</td>\n",
       "    </tr>\n",
       "    <tr>\n",
       "      <th>3</th>\n",
       "      <td>513</td>\n",
       "      <td>levocarnitine</td>\n",
       "      <td>10002034</td>\n",
       "      <td>ATC+graph match</td>\n",
       "      <td>CID000010917</td>\n",
       "      <td>C0002871</td>\n",
       "    </tr>\n",
       "    <tr>\n",
       "      <th>4</th>\n",
       "      <td>513</td>\n",
       "      <td>levocarnitine</td>\n",
       "      <td>10061428</td>\n",
       "      <td>ATC+graph match</td>\n",
       "      <td>CID000010917</td>\n",
       "      <td>C0003123, C0232462</td>\n",
       "    </tr>\n",
       "  </tbody>\n",
       "</table>\n",
       "</div>"
      ],
      "text/plain": [
       "   struct_id drugcentral_name  meddra_PT UniqueConcatenate(match_type)  \\\n",
       "0        513    levocarnitine   10000081               ATC+graph match   \n",
       "1        513    levocarnitine   10017999               ATC+graph match   \n",
       "2        513    levocarnitine   10001906               ATC+graph match   \n",
       "3        513    levocarnitine   10002034               ATC+graph match   \n",
       "4        513    levocarnitine   10061428               ATC+graph match   \n",
       "\n",
       "  UniqueConcatenate(stereo_id) UniqueConcatenate(umls_meddra)  \n",
       "0                 CID000010917             C0000729, C0000737  \n",
       "1                 CID000010917                       C0687713  \n",
       "2                 CID000010917                       C0002418  \n",
       "3                 CID000010917                       C0002871  \n",
       "4                 CID000010917             C0003123, C0232462  "
      ]
     },
     "execution_count": 3,
     "metadata": {},
     "output_type": "execute_result"
    }
   ],
   "source": [
    "# dataset which has SIDER mapped to DrugCentral and MedDra PTs\n",
    "sider = pd.read_csv(PATH_DATA_INPUT + 'final_sider_map_to_drugcentral_meddra.txt', sep='\\t')\n",
    "sider.head(5)\n"
   ]
  },
  {
   "cell_type": "code",
   "execution_count": 4,
   "metadata": {
    "execution": {
     "iopub.execute_input": "2023-04-19T17:41:46.579653Z",
     "iopub.status.busy": "2023-04-19T17:41:46.579429Z",
     "iopub.status.idle": "2023-04-19T17:41:47.561767Z",
     "shell.execute_reply": "2023-04-19T17:41:47.561416Z",
     "shell.execute_reply.started": "2023-04-19T17:41:46.579638Z"
    },
    "pycharm": {
     "name": "#%%\n"
    },
    "tags": []
   },
   "outputs": [
    {
     "data": {
      "text/html": [
       "<div>\n",
       "<style scoped>\n",
       "    .dataframe tbody tr th:only-of-type {\n",
       "        vertical-align: middle;\n",
       "    }\n",
       "\n",
       "    .dataframe tbody tr th {\n",
       "        vertical-align: top;\n",
       "    }\n",
       "\n",
       "    .dataframe thead th {\n",
       "        text-align: right;\n",
       "    }\n",
       "</style>\n",
       "<table border=\"1\" class=\"dataframe\">\n",
       "  <thead>\n",
       "    <tr style=\"text-align: right;\">\n",
       "      <th></th>\n",
       "      <th>drugcentral_faers_table_id</th>\n",
       "      <th>struct_id</th>\n",
       "      <th>meddra_code</th>\n",
       "      <th>llr</th>\n",
       "      <th>llr_threshold</th>\n",
       "      <th>drug_ae</th>\n",
       "      <th>drug_no_ae</th>\n",
       "      <th>no_drug_ae</th>\n",
       "      <th>no_drug_no_ae</th>\n",
       "      <th>AEs_in_DrugCentral</th>\n",
       "      <th>AEs_in_SIDER</th>\n",
       "      <th>drug_AE_pair_in_SIDER</th>\n",
       "      <th>PRR</th>\n",
       "      <th>PRR-lower95%CI</th>\n",
       "    </tr>\n",
       "  </thead>\n",
       "  <tbody>\n",
       "    <tr>\n",
       "      <th>0</th>\n",
       "      <td>119245.0</td>\n",
       "      <td>5165</td>\n",
       "      <td>10076309</td>\n",
       "      <td>3.137952</td>\n",
       "      <td>56.353728</td>\n",
       "      <td>10.0</td>\n",
       "      <td>4753.0</td>\n",
       "      <td>25026.0</td>\n",
       "      <td>4609203.0</td>\n",
       "      <td>1</td>\n",
       "      <td>0</td>\n",
       "      <td>NaN</td>\n",
       "      <td>0.388781</td>\n",
       "      <td>0.209293</td>\n",
       "    </tr>\n",
       "    <tr>\n",
       "      <th>1</th>\n",
       "      <td>119246.0</td>\n",
       "      <td>1679</td>\n",
       "      <td>10038661</td>\n",
       "      <td>4.882797</td>\n",
       "      <td>37.338532</td>\n",
       "      <td>3.0</td>\n",
       "      <td>4288.0</td>\n",
       "      <td>1618.0</td>\n",
       "      <td>4633083.0</td>\n",
       "      <td>1</td>\n",
       "      <td>1</td>\n",
       "      <td>0.0</td>\n",
       "      <td>2.002654</td>\n",
       "      <td>0.645463</td>\n",
       "    </tr>\n",
       "    <tr>\n",
       "      <th>2</th>\n",
       "      <td>119247.0</td>\n",
       "      <td>1679</td>\n",
       "      <td>10039203</td>\n",
       "      <td>0.925238</td>\n",
       "      <td>37.338532</td>\n",
       "      <td>3.0</td>\n",
       "      <td>4288.0</td>\n",
       "      <td>8406.0</td>\n",
       "      <td>4626295.0</td>\n",
       "      <td>1</td>\n",
       "      <td>1</td>\n",
       "      <td>0.0</td>\n",
       "      <td>0.385474</td>\n",
       "      <td>0.124345</td>\n",
       "    </tr>\n",
       "    <tr>\n",
       "      <th>3</th>\n",
       "      <td>119248.0</td>\n",
       "      <td>4969</td>\n",
       "      <td>10002383</td>\n",
       "      <td>0.646111</td>\n",
       "      <td>36.959713</td>\n",
       "      <td>4.0</td>\n",
       "      <td>6609.0</td>\n",
       "      <td>9577.0</td>\n",
       "      <td>4622802.0</td>\n",
       "      <td>1</td>\n",
       "      <td>0</td>\n",
       "      <td>NaN</td>\n",
       "      <td>0.292574</td>\n",
       "      <td>0.109816</td>\n",
       "    </tr>\n",
       "    <tr>\n",
       "      <th>4</th>\n",
       "      <td>119249.0</td>\n",
       "      <td>1679</td>\n",
       "      <td>10039424</td>\n",
       "      <td>15.916568</td>\n",
       "      <td>37.338532</td>\n",
       "      <td>8.0</td>\n",
       "      <td>4283.0</td>\n",
       "      <td>2929.0</td>\n",
       "      <td>4631772.0</td>\n",
       "      <td>1</td>\n",
       "      <td>1</td>\n",
       "      <td>0.0</td>\n",
       "      <td>2.950080</td>\n",
       "      <td>1.474865</td>\n",
       "    </tr>\n",
       "  </tbody>\n",
       "</table>\n",
       "</div>"
      ],
      "text/plain": [
       "   drugcentral_faers_table_id  struct_id  meddra_code        llr  \\\n",
       "0                    119245.0       5165     10076309   3.137952   \n",
       "1                    119246.0       1679     10038661   4.882797   \n",
       "2                    119247.0       1679     10039203   0.925238   \n",
       "3                    119248.0       4969     10002383   0.646111   \n",
       "4                    119249.0       1679     10039424  15.916568   \n",
       "\n",
       "   llr_threshold  drug_ae  drug_no_ae  no_drug_ae  no_drug_no_ae  \\\n",
       "0      56.353728     10.0      4753.0     25026.0      4609203.0   \n",
       "1      37.338532      3.0      4288.0      1618.0      4633083.0   \n",
       "2      37.338532      3.0      4288.0      8406.0      4626295.0   \n",
       "3      36.959713      4.0      6609.0      9577.0      4622802.0   \n",
       "4      37.338532      8.0      4283.0      2929.0      4631772.0   \n",
       "\n",
       "   AEs_in_DrugCentral  AEs_in_SIDER  drug_AE_pair_in_SIDER       PRR  \\\n",
       "0                   1             0                    NaN  0.388781   \n",
       "1                   1             1                    0.0  2.002654   \n",
       "2                   1             1                    0.0  0.385474   \n",
       "3                   1             0                    NaN  0.292574   \n",
       "4                   1             1                    0.0  2.950080   \n",
       "\n",
       "   PRR-lower95%CI  \n",
       "0        0.209293  \n",
       "1        0.645463  \n",
       "2        0.124345  \n",
       "3        0.109816  \n",
       "4        1.474865  "
      ]
     },
     "execution_count": 4,
     "metadata": {},
     "output_type": "execute_result"
    }
   ],
   "source": [
    "# merged dataset of FAERS from DrugCentral + SIDER; note that a drug without AE in FAERS will not be in the file,\n",
    "# it doesn't mean no data - it means no AE, assuming it has some other AEs reported\n",
    "\n",
    "faers = pd.read_csv(PATH_DATA_INPUT + 'combined_faers_sider.txt', sep='\\t')\n",
    "\n",
    "# file includes some rows where drug-AE pair is from SIDER - filter out any rows without LLR - which means they came \n",
    "# uniquely from SIDER\n",
    "\n",
    "faers = faers[faers['llr'].notnull()]\n",
    "faers.head(5)"
   ]
  },
  {
   "cell_type": "code",
   "execution_count": 5,
   "metadata": {
    "collapsed": false,
    "execution": {
     "iopub.execute_input": "2023-04-19T17:41:47.562969Z",
     "iopub.status.busy": "2023-04-19T17:41:47.562743Z",
     "iopub.status.idle": "2023-04-19T17:41:47.614885Z",
     "shell.execute_reply": "2023-04-19T17:41:47.614539Z",
     "shell.execute_reply.started": "2023-04-19T17:41:47.562953Z"
    },
    "jupyter": {
     "outputs_hidden": false
    },
    "pycharm": {
     "is_executing": false,
     "name": "#%%\n"
    },
    "tags": []
   },
   "outputs": [
    {
     "data": {
      "text/html": [
       "<div>\n",
       "<style scoped>\n",
       "    .dataframe tbody tr th:only-of-type {\n",
       "        vertical-align: middle;\n",
       "    }\n",
       "\n",
       "    .dataframe tbody tr th {\n",
       "        vertical-align: top;\n",
       "    }\n",
       "\n",
       "    .dataframe thead th {\n",
       "        text-align: right;\n",
       "    }\n",
       "</style>\n",
       "<table border=\"1\" class=\"dataframe\">\n",
       "  <thead>\n",
       "    <tr style=\"text-align: right;\">\n",
       "      <th></th>\n",
       "      <th>input_code</th>\n",
       "      <th>input_type</th>\n",
       "      <th>parent_code</th>\n",
       "      <th>parent_name</th>\n",
       "      <th>parent_type</th>\n",
       "      <th>CUI</th>\n",
       "    </tr>\n",
       "  </thead>\n",
       "  <tbody>\n",
       "    <tr>\n",
       "      <th>0</th>\n",
       "      <td>10000050</td>\n",
       "      <td>PT</td>\n",
       "      <td>10017927</td>\n",
       "      <td>Gastrointestinal and hepatobiliary procedural ...</td>\n",
       "      <td>HT</td>\n",
       "      <td>C0852238</td>\n",
       "    </tr>\n",
       "    <tr>\n",
       "      <th>1</th>\n",
       "      <td>10000050</td>\n",
       "      <td>PT</td>\n",
       "      <td>10034654</td>\n",
       "      <td>Peritoneal and retroperitoneal fibrosis and ad...</td>\n",
       "      <td>HT</td>\n",
       "      <td>C0851945</td>\n",
       "    </tr>\n",
       "    <tr>\n",
       "      <th>2</th>\n",
       "      <td>10000050</td>\n",
       "      <td>PT</td>\n",
       "      <td>10069888</td>\n",
       "      <td>Procedural related injuries and complications NEC</td>\n",
       "      <td>HG</td>\n",
       "      <td>C2748389</td>\n",
       "    </tr>\n",
       "    <tr>\n",
       "      <th>3</th>\n",
       "      <td>10000050</td>\n",
       "      <td>PT</td>\n",
       "      <td>10034652</td>\n",
       "      <td>Peritoneal and retroperitoneal conditions</td>\n",
       "      <td>HG</td>\n",
       "      <td>C0851466</td>\n",
       "    </tr>\n",
       "    <tr>\n",
       "      <th>4</th>\n",
       "      <td>10000050</td>\n",
       "      <td>PT</td>\n",
       "      <td>10022117</td>\n",
       "      <td>Injury, poisoning and procedural complications</td>\n",
       "      <td>OS</td>\n",
       "      <td>C0947733</td>\n",
       "    </tr>\n",
       "  </tbody>\n",
       "</table>\n",
       "</div>"
      ],
      "text/plain": [
       "   input_code input_type  parent_code  \\\n",
       "0    10000050         PT     10017927   \n",
       "1    10000050         PT     10034654   \n",
       "2    10000050         PT     10069888   \n",
       "3    10000050         PT     10034652   \n",
       "4    10000050         PT     10022117   \n",
       "\n",
       "                                         parent_name parent_type       CUI  \n",
       "0  Gastrointestinal and hepatobiliary procedural ...          HT  C0852238  \n",
       "1  Peritoneal and retroperitoneal fibrosis and ad...          HT  C0851945  \n",
       "2  Procedural related injuries and complications NEC          HG  C2748389  \n",
       "3          Peritoneal and retroperitoneal conditions          HG  C0851466  \n",
       "4     Injury, poisoning and procedural complications          OS  C0947733  "
      ]
     },
     "execution_count": 5,
     "metadata": {},
     "output_type": "execute_result"
    }
   ],
   "source": [
    "# this mapping was obtained using the UMLS API to map MedDRA preferred terms to HTs (high level terms) and HGs (high\n",
    "# level group terms).  Note that in UMLS HT is used instead of the more usual HLT abbreviation, and HG instead of HGLT\n",
    "parents = pd.read_csv(PATH_DATA_INPUT + 'terms_vs_parents.txt', sep='\\t')\n",
    "parents.head(5)"
   ]
  },
  {
   "cell_type": "code",
   "execution_count": 6,
   "metadata": {
    "collapsed": false,
    "execution": {
     "iopub.execute_input": "2023-04-19T17:41:47.615655Z",
     "iopub.status.busy": "2023-04-19T17:41:47.615435Z",
     "iopub.status.idle": "2023-04-19T17:43:16.795814Z",
     "shell.execute_reply": "2023-04-19T17:43:16.795071Z",
     "shell.execute_reply.started": "2023-04-19T17:41:47.615640Z"
    },
    "jupyter": {
     "outputs_hidden": false
    },
    "pycharm": {
     "is_executing": false,
     "name": "#%%\n"
    },
    "tags": []
   },
   "outputs": [
    {
     "name": "stdout",
     "output_type": "stream",
     "text": [
      "Number of unique MedDRA PTs: 12291\n"
     ]
    }
   ],
   "source": [
    "# there can be multiple HT or HG terms for a given PT\n",
    "all_pts = set(sider['meddra_PT']) | set(faers['meddra_code'])\n",
    "print('Number of unique MedDRA PTs: {}'.format(len(all_pts)))\n",
    "\n",
    "term2parent = defaultdict(dict)\n",
    "\n",
    "for pt in all_pts:\n",
    "    hts = list(parents.loc[(parents['parent_type'] == 'HT') & (parents['input_code'] == pt), 'parent_code'].unique())\n",
    "    hgs = list(parents.loc[(parents['parent_type'] == 'HG') & (parents['input_code'] == pt), 'parent_code'].unique())\n",
    "\n",
    "    if not hts or not hgs:\n",
    "        print('ERROR, no parent terms found for MedDRA PT {}'.format(pt))\n",
    "        continue\n",
    "\n",
    "    term2parent[pt]['HT'] = hts\n",
    "    term2parent[pt]['HG'] = hgs\n",
    "\n",
    "    # create map from HT to HG; use the relationships directly returned from UMLS, not those inferred by listing the HGs for HTs, above\n",
    "    # There can be multiple contexts from a given PT to HT/HG so there's no point mixing up all combos of HT to HG here\n",
    "    for ht in hts:\n",
    "        if term2parent.get(ht, None) is None:\n",
    "             hgs_for_ht = list(parents.loc[(parents['parent_type'] == 'HG') & (parents['input_code'] == ht), 'parent_code'].unique())\n",
    "             term2parent[ht]['HG'] = hgs_for_ht"
   ]
  },
  {
   "cell_type": "code",
   "execution_count": 7,
   "metadata": {
    "collapsed": false,
    "execution": {
     "iopub.execute_input": "2023-04-19T17:43:16.796908Z",
     "iopub.status.busy": "2023-04-19T17:43:16.796663Z",
     "iopub.status.idle": "2023-04-19T17:43:16.867870Z",
     "shell.execute_reply": "2023-04-19T17:43:16.867505Z",
     "shell.execute_reply.started": "2023-04-19T17:43:16.796891Z"
    },
    "jupyter": {
     "outputs_hidden": false
    },
    "pycharm": {
     "is_executing": false,
     "name": "#%%\n"
    },
    "tags": []
   },
   "outputs": [
    {
     "name": "stdout",
     "output_type": "stream",
     "text": [
      "Number of SIDER drugs 1281\n",
      "Number of FAERS drugs 2220\n"
     ]
    }
   ],
   "source": [
    "sider_drugs = set(sider['struct_id'])\n",
    "print('Number of SIDER drugs {}'.format(len(sider_drugs)))\n",
    "\n",
    "faers_drugs = set(faers['struct_id'])\n",
    "print('Number of FAERS drugs {}'.format(len(faers_drugs)))"
   ]
  },
  {
   "cell_type": "code",
   "execution_count": 8,
   "metadata": {
    "execution": {
     "iopub.execute_input": "2023-04-19T17:43:16.868615Z",
     "iopub.status.busy": "2023-04-19T17:43:16.868410Z",
     "iopub.status.idle": "2023-04-19T17:43:16.885913Z",
     "shell.execute_reply": "2023-04-19T17:43:16.885603Z",
     "shell.execute_reply.started": "2023-04-19T17:43:16.868600Z"
    },
    "tags": []
   },
   "outputs": [
    {
     "data": {
      "text/plain": [
       "{'HT': [10039289, 10040797], 'HG': [10047438, 10040792]}"
      ]
     },
     "execution_count": 8,
     "metadata": {},
     "output_type": "execute_result"
    }
   ],
   "source": [
    "term2parent[10027011]"
   ]
  },
  {
   "cell_type": "markdown",
   "metadata": {
    "pycharm": {
     "is_executing": false,
     "name": "#%% md\n"
    }
   },
   "source": [
    "# build out the SIDER positives"
   ]
  },
  {
   "cell_type": "code",
   "execution_count": 9,
   "metadata": {
    "collapsed": false,
    "execution": {
     "iopub.execute_input": "2023-04-19T17:43:16.886600Z",
     "iopub.status.busy": "2023-04-19T17:43:16.886408Z",
     "iopub.status.idle": "2023-04-19T17:43:17.288132Z",
     "shell.execute_reply": "2023-04-19T17:43:17.287709Z",
     "shell.execute_reply.started": "2023-04-19T17:43:16.886586Z"
    },
    "jupyter": {
     "outputs_hidden": false
    },
    "pycharm": {
     "is_executing": false,
     "name": "#%%\n"
    },
    "tags": []
   },
   "outputs": [],
   "source": [
    "data = dict()\n",
    "\n",
    "data['SIDER:PT'] = defaultdict(dict)\n",
    "data['SIDER:HT'] = defaultdict(dict)\n",
    "data['SIDER:HG'] = defaultdict(dict)\n",
    "data['FAERS:PT'] = defaultdict(dict)\n",
    "data['FAERS:HT'] = defaultdict(dict)\n",
    "data['FAERS:HG'] = defaultdict(dict)\n",
    "\n",
    "data['SIDER_DRUGS'] = sider_drugs\n",
    "data['FAERS_DRUGS'] = faers_drugs\n",
    "\n",
    "# iterate through SIDER data and define positives for PT, HT and HG level terms\n",
    "for row in sider.itertuples():\n",
    "    \n",
    "    pt = row.meddra_PT\n",
    "    if data['SIDER:PT'][pt].get('pos', None) is None:\n",
    "        data['SIDER:PT'][pt]['pos'] = set()\n",
    "\n",
    "    data['SIDER:PT'][pt]['pos'].add(row.struct_id)\n",
    "    \n",
    "    for ht in term2parent[pt]['HT']:\n",
    "        if data['SIDER:HT'][ht].get('pos', None) is None:\n",
    "            data['SIDER:HT'][ht]['pos'] = set()\n",
    "        data['SIDER:HT'][ht]['pos'].add(row.struct_id)\n",
    "\n",
    "    for hg in term2parent[pt]['HG']:\n",
    "        if data['SIDER:HG'][hg].get('pos', None) is None:\n",
    "            data['SIDER:HG'][hg]['pos'] = set()\n",
    "        data['SIDER:HG'][hg]['pos'].add(row.struct_id)"
   ]
  },
  {
   "cell_type": "code",
   "execution_count": null,
   "metadata": {},
   "outputs": [],
   "source": []
  },
  {
   "cell_type": "markdown",
   "metadata": {
    "pycharm": {
     "name": "#%% md\n"
    }
   },
   "source": [
    "# build out SIDER negatives\n",
    "1) start with HG level terms - if it's not a positive drug, it's a negative\n",
    "\n",
    "2) move on to HT terms - if not a positive drug, and not a HG positive, it's a negative\n",
    "\n",
    "3) move on to PT terms - if not a positive drug, and not a HT positive, it's a negative"
   ]
  },
  {
   "cell_type": "code",
   "execution_count": 10,
   "metadata": {
    "execution": {
     "iopub.execute_input": "2023-04-19T17:43:17.288990Z",
     "iopub.status.busy": "2023-04-19T17:43:17.288760Z",
     "iopub.status.idle": "2023-04-19T17:43:18.102771Z",
     "shell.execute_reply": "2023-04-19T17:43:18.102360Z",
     "shell.execute_reply.started": "2023-04-19T17:43:17.288974Z"
    },
    "pycharm": {
     "is_executing": false,
     "name": "#%%\n"
    },
    "tags": []
   },
   "outputs": [],
   "source": [
    "# create a dataframe for capturing summary results\n",
    "summary = []\n",
    "\n",
    "for hg in data['SIDER:HG']:\n",
    "    subdata = data['SIDER:HG'][hg]\n",
    "    subdata['neg'] = sider_drugs - subdata['pos']\n",
    "    summary.append({'source': 'SIDER', 'MedDRA_code': hg, 'term_type': 'HG', 'n_pos': len(subdata['pos']), 'n_neg': len(subdata['neg'])})\n",
    "    \n",
    "for ht in data['SIDER:HT']:\n",
    "    subdata = data['SIDER:HT'][ht]\n",
    "    negs = set(sider_drugs)\n",
    "    \n",
    "    # remove any positives for the HG terms corresponding to this HT term\n",
    "    if not term2parent[ht]['HG']:\n",
    "        print('ERROR as there are no given HG terms for this HT term {}'.format(ht))\n",
    "    \n",
    "    for hg in term2parent[ht]['HG']:\n",
    "        negs = negs - data['SIDER:HG'][hg]['pos']\n",
    "\n",
    "    subdata['neg'] = negs\n",
    "    summary.append({'source': 'SIDER', 'MedDRA_code': ht, 'term_type': 'HT', 'n_pos': len(subdata['pos']), 'n_neg': len(subdata['neg'])})\n",
    "\n",
    "for pt in data['SIDER:PT']:\n",
    "    subdata = data['SIDER:PT'][pt]\n",
    "    negs = set(sider_drugs)\n",
    "    \n",
    "    # remove any positives for the HG terms corresponding to this HT term\n",
    "    if not term2parent[pt]['HT']:\n",
    "        print('ERROR as there are no given HT terms for this PT term {}'.format(pt))\n",
    "    \n",
    "    for ht in term2parent[pt]['HT']:\n",
    "        negs = negs - data['SIDER:HT'][ht]['pos']\n",
    "\n",
    "    subdata['neg'] = negs\n",
    "    summary.append({'source': 'SIDER', 'MedDRA_code': pt, 'term_type': 'PT', 'n_pos': len(subdata['pos']), 'n_neg': len(subdata['neg'])})\n",
    "\n",
    "summary_sider  = pd.DataFrame(summary)"
   ]
  },
  {
   "cell_type": "code",
   "execution_count": 11,
   "metadata": {
    "execution": {
     "iopub.execute_input": "2023-04-19T17:43:18.103562Z",
     "iopub.status.busy": "2023-04-19T17:43:18.103346Z",
     "iopub.status.idle": "2023-04-19T17:43:18.110599Z",
     "shell.execute_reply": "2023-04-19T17:43:18.110269Z",
     "shell.execute_reply.started": "2023-04-19T17:43:18.103547Z"
    },
    "tags": []
   },
   "outputs": [
    {
     "data": {
      "text/html": [
       "<div>\n",
       "<style scoped>\n",
       "    .dataframe tbody tr th:only-of-type {\n",
       "        vertical-align: middle;\n",
       "    }\n",
       "\n",
       "    .dataframe tbody tr th {\n",
       "        vertical-align: top;\n",
       "    }\n",
       "\n",
       "    .dataframe thead th {\n",
       "        text-align: right;\n",
       "    }\n",
       "</style>\n",
       "<table border=\"1\" class=\"dataframe\">\n",
       "  <thead>\n",
       "    <tr style=\"text-align: right;\">\n",
       "      <th></th>\n",
       "      <th>source</th>\n",
       "      <th>MedDRA_code</th>\n",
       "      <th>term_type</th>\n",
       "      <th>n_pos</th>\n",
       "      <th>n_neg</th>\n",
       "    </tr>\n",
       "  </thead>\n",
       "  <tbody>\n",
       "    <tr>\n",
       "      <th>0</th>\n",
       "      <td>SIDER</td>\n",
       "      <td>10018012</td>\n",
       "      <td>HG</td>\n",
       "      <td>1148</td>\n",
       "      <td>133</td>\n",
       "    </tr>\n",
       "    <tr>\n",
       "      <th>1</th>\n",
       "      <td>SIDER</td>\n",
       "      <td>10047518</td>\n",
       "      <td>HG</td>\n",
       "      <td>668</td>\n",
       "      <td>613</td>\n",
       "    </tr>\n",
       "    <tr>\n",
       "      <th>2</th>\n",
       "      <td>SIDER</td>\n",
       "      <td>10002086</td>\n",
       "      <td>HG</td>\n",
       "      <td>596</td>\n",
       "      <td>685</td>\n",
       "    </tr>\n",
       "    <tr>\n",
       "      <th>3</th>\n",
       "      <td>SIDER</td>\n",
       "      <td>10003018</td>\n",
       "      <td>HG</td>\n",
       "      <td>790</td>\n",
       "      <td>491</td>\n",
       "    </tr>\n",
       "    <tr>\n",
       "      <th>4</th>\n",
       "      <td>SIDER</td>\n",
       "      <td>10018073</td>\n",
       "      <td>HG</td>\n",
       "      <td>1195</td>\n",
       "      <td>86</td>\n",
       "    </tr>\n",
       "    <tr>\n",
       "      <th>...</th>\n",
       "      <td>...</td>\n",
       "      <td>...</td>\n",
       "      <td>...</td>\n",
       "      <td>...</td>\n",
       "      <td>...</td>\n",
       "    </tr>\n",
       "    <tr>\n",
       "      <th>5917</th>\n",
       "      <td>SIDER</td>\n",
       "      <td>10007766</td>\n",
       "      <td>PT</td>\n",
       "      <td>1</td>\n",
       "      <td>1208</td>\n",
       "    </tr>\n",
       "    <tr>\n",
       "      <th>5918</th>\n",
       "      <td>SIDER</td>\n",
       "      <td>10047661</td>\n",
       "      <td>PT</td>\n",
       "      <td>1</td>\n",
       "      <td>1203</td>\n",
       "    </tr>\n",
       "    <tr>\n",
       "      <th>5919</th>\n",
       "      <td>SIDER</td>\n",
       "      <td>10037532</td>\n",
       "      <td>PT</td>\n",
       "      <td>1</td>\n",
       "      <td>1138</td>\n",
       "    </tr>\n",
       "    <tr>\n",
       "      <th>5920</th>\n",
       "      <td>SIDER</td>\n",
       "      <td>10057426</td>\n",
       "      <td>PT</td>\n",
       "      <td>1</td>\n",
       "      <td>1138</td>\n",
       "    </tr>\n",
       "    <tr>\n",
       "      <th>5921</th>\n",
       "      <td>SIDER</td>\n",
       "      <td>10038895</td>\n",
       "      <td>PT</td>\n",
       "      <td>1</td>\n",
       "      <td>1200</td>\n",
       "    </tr>\n",
       "  </tbody>\n",
       "</table>\n",
       "<p>5922 rows × 5 columns</p>\n",
       "</div>"
      ],
      "text/plain": [
       "     source  MedDRA_code term_type  n_pos  n_neg\n",
       "0     SIDER     10018012        HG   1148    133\n",
       "1     SIDER     10047518        HG    668    613\n",
       "2     SIDER     10002086        HG    596    685\n",
       "3     SIDER     10003018        HG    790    491\n",
       "4     SIDER     10018073        HG   1195     86\n",
       "...     ...          ...       ...    ...    ...\n",
       "5917  SIDER     10007766        PT      1   1208\n",
       "5918  SIDER     10047661        PT      1   1203\n",
       "5919  SIDER     10037532        PT      1   1138\n",
       "5920  SIDER     10057426        PT      1   1138\n",
       "5921  SIDER     10038895        PT      1   1200\n",
       "\n",
       "[5922 rows x 5 columns]"
      ]
     },
     "execution_count": 11,
     "metadata": {},
     "output_type": "execute_result"
    }
   ],
   "source": [
    "summary_sider"
   ]
  },
  {
   "cell_type": "markdown",
   "metadata": {},
   "source": [
    "# build out the FAERS positives and negatives (in the dataset)"
   ]
  },
  {
   "cell_type": "code",
   "execution_count": 12,
   "metadata": {
    "collapsed": false,
    "execution": {
     "iopub.execute_input": "2023-04-19T17:43:18.111277Z",
     "iopub.status.busy": "2023-04-19T17:43:18.111087Z",
     "iopub.status.idle": "2023-04-19T17:43:19.333325Z",
     "shell.execute_reply": "2023-04-19T17:43:19.332891Z",
     "shell.execute_reply.started": "2023-04-19T17:43:18.111263Z"
    },
    "jupyter": {
     "outputs_hidden": false
    },
    "pycharm": {
     "is_executing": false,
     "name": "#%%\n"
    },
    "tags": []
   },
   "outputs": [],
   "source": [
    "# iterate through FAERS data and define positives for PT, HT and HG level terms\n",
    "for row in faers.itertuples():\n",
    "    \n",
    "    pt = row.meddra_code\n",
    "\n",
    "    if  row.llr < llr_thres*row.llr_threshold:\n",
    "        continue\n",
    "\n",
    "    if data['FAERS:PT'][pt].get('pos', None) is None:\n",
    "        data['FAERS:PT'][pt]['pos'] = set()\n",
    "    \n",
    "    data['FAERS:PT'][pt]['pos'].add(row.struct_id)\n",
    "\n",
    "    for ht in term2parent[pt]['HT']:\n",
    "        if data['FAERS:HT'][ht].get('pos', None) is None:\n",
    "            data['FAERS:HT'][ht]['pos'] = set()\n",
    "\n",
    "        if  row.llr >= llr_thres*row.llr_threshold:\n",
    "            data['FAERS:HT'][ht]['pos'].add(row.struct_id)\n",
    "    \n",
    "    for hg in term2parent[pt]['HG']:\n",
    "        if data['FAERS:HG'][hg].get('pos', None) is None:\n",
    "            data['FAERS:HG'][hg]['pos'] = set()\n",
    "\n",
    "        if  row.llr >= llr_thres*row.llr_threshold:\n",
    "            data['FAERS:HG'][hg]['pos'].add(row.struct_id)"
   ]
  },
  {
   "cell_type": "markdown",
   "metadata": {},
   "source": [
    "# build out FAERS negatives - same approach as SIDER"
   ]
  },
  {
   "cell_type": "code",
   "execution_count": 13,
   "metadata": {
    "collapsed": false,
    "execution": {
     "iopub.execute_input": "2023-04-19T17:43:19.334197Z",
     "iopub.status.busy": "2023-04-19T17:43:19.333970Z",
     "iopub.status.idle": "2023-04-19T17:43:20.868137Z",
     "shell.execute_reply": "2023-04-19T17:43:20.867723Z",
     "shell.execute_reply.started": "2023-04-19T17:43:19.334181Z"
    },
    "jupyter": {
     "outputs_hidden": false
    },
    "pycharm": {
     "is_executing": false,
     "name": "#%%\n"
    }
   },
   "outputs": [],
   "source": [
    "# create a dataframe for capturing summary results\n",
    "summary = []\n",
    "\n",
    "for hg in data['FAERS:HG']:\n",
    "    subdata = data['FAERS:HG'][hg]\n",
    "    subdata['neg'] = faers_drugs - subdata['pos']\n",
    "    summary.append({'source': 'FAERS', 'MedDRA_code': hg, 'term_type': 'HG', 'n_pos': len(subdata['pos']), 'n_neg': len(subdata['neg'])})\n",
    "\n",
    "for ht in data['FAERS:HT']:\n",
    "    subdata = data['FAERS:HT'][ht]\n",
    "    negs = set(faers_drugs)\n",
    "    \n",
    "    # remove any positives for the HG terms corresponding to this HT term\n",
    "    if not term2parent[ht]['HG']:\n",
    "        print('ERROR as there are no given HG terms for this HT term {}'.format(ht))\n",
    "    \n",
    "    for hg in term2parent[ht]['HG']:\n",
    "        negs = negs - data['FAERS:HG'][hg]['pos']\n",
    "\n",
    "    subdata['neg'] = negs\n",
    "    summary.append({'source': 'FAERS', 'MedDRA_code': ht, 'term_type': 'HT', 'n_pos': len(subdata['pos']), 'n_neg': len(subdata['neg'])})\n",
    "\n",
    "for pt in data['FAERS:PT']:\n",
    "    subdata = data['FAERS:PT'][pt]\n",
    "    negs = set(faers_drugs)\n",
    "    \n",
    "    # remove any positives for the HG terms corresponding to this HT term\n",
    "    if not term2parent[pt]['HT']:\n",
    "        print('ERROR as there are no given HT terms for this PT term {}'.format(pt))\n",
    "    \n",
    "    for ht in term2parent[pt]['HT']:\n",
    "        negs = negs - data['FAERS:HT'][ht]['pos']\n",
    "\n",
    "    subdata['neg'] = negs\n",
    "    summary.append({'source': 'FAERS', 'MedDRA_code': pt, 'term_type': 'PT', 'n_pos': len(subdata['pos']), 'n_neg': len(subdata['neg'])})\n",
    "\n",
    "summary_faers = pd.DataFrame(summary)    "
   ]
  },
  {
   "cell_type": "code",
   "execution_count": 14,
   "metadata": {
    "execution": {
     "iopub.execute_input": "2023-04-19T17:43:20.869650Z",
     "iopub.status.busy": "2023-04-19T17:43:20.869418Z",
     "iopub.status.idle": "2023-04-19T17:43:20.876051Z",
     "shell.execute_reply": "2023-04-19T17:43:20.875745Z",
     "shell.execute_reply.started": "2023-04-19T17:43:20.869633Z"
    }
   },
   "outputs": [
    {
     "data": {
      "text/html": [
       "<div>\n",
       "<style scoped>\n",
       "    .dataframe tbody tr th:only-of-type {\n",
       "        vertical-align: middle;\n",
       "    }\n",
       "\n",
       "    .dataframe tbody tr th {\n",
       "        vertical-align: top;\n",
       "    }\n",
       "\n",
       "    .dataframe thead th {\n",
       "        text-align: right;\n",
       "    }\n",
       "</style>\n",
       "<table border=\"1\" class=\"dataframe\">\n",
       "  <thead>\n",
       "    <tr style=\"text-align: right;\">\n",
       "      <th></th>\n",
       "      <th>source</th>\n",
       "      <th>MedDRA_code</th>\n",
       "      <th>term_type</th>\n",
       "      <th>n_pos</th>\n",
       "      <th>n_neg</th>\n",
       "    </tr>\n",
       "  </thead>\n",
       "  <tbody>\n",
       "    <tr>\n",
       "      <th>0</th>\n",
       "      <td>FAERS</td>\n",
       "      <td>10079145</td>\n",
       "      <td>HG</td>\n",
       "      <td>494</td>\n",
       "      <td>1726</td>\n",
       "    </tr>\n",
       "    <tr>\n",
       "      <th>1</th>\n",
       "      <td>FAERS</td>\n",
       "      <td>10029305</td>\n",
       "      <td>HG</td>\n",
       "      <td>548</td>\n",
       "      <td>1672</td>\n",
       "    </tr>\n",
       "    <tr>\n",
       "      <th>2</th>\n",
       "      <td>FAERS</td>\n",
       "      <td>10039911</td>\n",
       "      <td>HG</td>\n",
       "      <td>194</td>\n",
       "      <td>2026</td>\n",
       "    </tr>\n",
       "    <tr>\n",
       "      <th>3</th>\n",
       "      <td>FAERS</td>\n",
       "      <td>10007521</td>\n",
       "      <td>HG</td>\n",
       "      <td>342</td>\n",
       "      <td>1878</td>\n",
       "    </tr>\n",
       "    <tr>\n",
       "      <th>4</th>\n",
       "      <td>FAERS</td>\n",
       "      <td>10028593</td>\n",
       "      <td>HG</td>\n",
       "      <td>149</td>\n",
       "      <td>2071</td>\n",
       "    </tr>\n",
       "    <tr>\n",
       "      <th>...</th>\n",
       "      <td>...</td>\n",
       "      <td>...</td>\n",
       "      <td>...</td>\n",
       "      <td>...</td>\n",
       "      <td>...</td>\n",
       "    </tr>\n",
       "    <tr>\n",
       "      <th>7391</th>\n",
       "      <td>FAERS</td>\n",
       "      <td>10022841</td>\n",
       "      <td>PT</td>\n",
       "      <td>1</td>\n",
       "      <td>2072</td>\n",
       "    </tr>\n",
       "    <tr>\n",
       "      <th>7392</th>\n",
       "      <td>FAERS</td>\n",
       "      <td>10052594</td>\n",
       "      <td>PT</td>\n",
       "      <td>1</td>\n",
       "      <td>2097</td>\n",
       "    </tr>\n",
       "    <tr>\n",
       "      <th>7393</th>\n",
       "      <td>FAERS</td>\n",
       "      <td>10005600</td>\n",
       "      <td>PT</td>\n",
       "      <td>1</td>\n",
       "      <td>2201</td>\n",
       "    </tr>\n",
       "    <tr>\n",
       "      <th>7394</th>\n",
       "      <td>FAERS</td>\n",
       "      <td>10052894</td>\n",
       "      <td>PT</td>\n",
       "      <td>1</td>\n",
       "      <td>2135</td>\n",
       "    </tr>\n",
       "    <tr>\n",
       "      <th>7395</th>\n",
       "      <td>FAERS</td>\n",
       "      <td>10052162</td>\n",
       "      <td>PT</td>\n",
       "      <td>1</td>\n",
       "      <td>1941</td>\n",
       "    </tr>\n",
       "  </tbody>\n",
       "</table>\n",
       "<p>7396 rows × 5 columns</p>\n",
       "</div>"
      ],
      "text/plain": [
       "     source  MedDRA_code term_type  n_pos  n_neg\n",
       "0     FAERS     10079145        HG    494   1726\n",
       "1     FAERS     10029305        HG    548   1672\n",
       "2     FAERS     10039911        HG    194   2026\n",
       "3     FAERS     10007521        HG    342   1878\n",
       "4     FAERS     10028593        HG    149   2071\n",
       "...     ...          ...       ...    ...    ...\n",
       "7391  FAERS     10022841        PT      1   2072\n",
       "7392  FAERS     10052594        PT      1   2097\n",
       "7393  FAERS     10005600        PT      1   2201\n",
       "7394  FAERS     10052894        PT      1   2135\n",
       "7395  FAERS     10052162        PT      1   1941\n",
       "\n",
       "[7396 rows x 5 columns]"
      ]
     },
     "execution_count": 14,
     "metadata": {},
     "output_type": "execute_result"
    }
   ],
   "source": [
    "summary_faers"
   ]
  },
  {
   "cell_type": "code",
   "execution_count": 15,
   "metadata": {
    "collapsed": false,
    "execution": {
     "iopub.execute_input": "2023-04-19T17:43:20.876734Z",
     "iopub.status.busy": "2023-04-19T17:43:20.876537Z",
     "iopub.status.idle": "2023-04-19T17:43:21.646357Z",
     "shell.execute_reply": "2023-04-19T17:43:21.645949Z",
     "shell.execute_reply.started": "2023-04-19T17:43:20.876720Z"
    },
    "jupyter": {
     "outputs_hidden": false
    },
    "pycharm": {
     "is_executing": false,
     "name": "#%%\n"
    },
    "tags": []
   },
   "outputs": [
    {
     "name": "stdout",
     "output_type": "stream",
     "text": [
      "Complete: Pickled training sets stored in AE_training_sets.pkl\n"
     ]
    }
   ],
   "source": [
    "# merge sider and faers data\n",
    "summary = pd.concat([summary_sider, summary_faers], axis=0, ignore_index=True)\n",
    "\n",
    "# write out summary dataset\n",
    "summary.to_csv(PATH_DATA_OUTPUT + 'SIDER_FAERS_statistics.csv', index=False)\n",
    "\n",
    "# save the data structure as pickled opbject\n",
    "with open(PATH_DATA_INTERMEDIATE + f'AE_training_sets_llr{llr_thres}.pkl', 'wb') as outf:\n",
    "    pickle.dump(data, outf, pickle.HIGHEST_PROTOCOL)\n",
    "\n",
    "print('Complete: Pickled training sets stored in AE_training_sets.pkl')"
   ]
  }
 ],
 "metadata": {
  "kernelspec": {
   "display_name": "PythonDS v1.1",
   "language": "python",
   "name": "py_v1.1"
  },
  "language_info": {
   "codemirror_mode": {
    "name": "ipython",
    "version": 3
   },
   "file_extension": ".py",
   "mimetype": "text/x-python",
   "name": "python",
   "nbconvert_exporter": "python",
   "pygments_lexer": "ipython3",
   "version": "3.8.13"
  }
 },
 "nbformat": 4,
 "nbformat_minor": 4
}
