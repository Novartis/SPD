{
 "cells": [
  {
   "cell_type": "markdown",
   "metadata": {},
   "source": [
    "# Notebook #3"
   ]
  },
  {
   "cell_type": "markdown",
   "metadata": {},
   "source": [
    "Jeffrey Sutherland\n",
    "8/2/2021"
   ]
  },
  {
   "cell_type": "code",
   "execution_count": 1,
   "metadata": {
    "collapsed": false,
    "jupyter": {
     "outputs_hidden": false
    },
    "pycharm": {
     "name": "#%%\n"
    }
   },
   "outputs": [],
   "source": [
    "import pandas as pd\n",
    "import pickle\n",
    "from collections import defaultdict\n",
    "import os"
   ]
  },
  {
   "cell_type": "code",
   "execution_count": 2,
   "metadata": {},
   "outputs": [],
   "source": [
    "PATH_DATA_INPUT = \"../data/input/\"\n",
    "PATH_DATA_INTERMEDIATE = \"../data/intermediate/\"\n",
    "PATH_DATA_OUTPUT = \"../data/output/\"\n",
    "PATH_MODELS = '../data/models/'"
   ]
  },
  {
   "cell_type": "markdown",
   "metadata": {
    "pycharm": {
     "name": "#%% md\n"
    }
   },
   "source": [
    "read the adverse event (FAERS, SIDER) positive and negatives from the pickled output of make_AE_training_sets.ipynb"
   ]
  },
  {
   "cell_type": "code",
   "execution_count": 3,
   "metadata": {
    "collapsed": false,
    "jupyter": {
     "outputs_hidden": false
    },
    "pycharm": {
     "name": "#%%\n"
    }
   },
   "outputs": [
    {
     "name": "stdout",
     "output_type": "stream",
     "text": [
      "Read in AE pickle; top level keys are dict_keys(['SIDER:PT', 'SIDER:HT', 'SIDER:HG', 'FAERS:PT', 'FAERS:HT', 'FAERS:HG', 'SIDER_DRUGS', 'FAERS_DRUGS'])\n"
     ]
    }
   ],
   "source": [
    "with open(PATH_DATA_INTERMEDIATE + 'AE_training_sets.pkl', 'rb') as inf:\n",
    "    AE_data = pickle.load(inf)\n",
    "\n",
    "print('Read in AE pickle; top level keys are {}'.format(AE_data.keys()))"
   ]
  },
  {
   "cell_type": "markdown",
   "metadata": {
    "pycharm": {
     "name": "#%% md\n"
    }
   },
   "source": [
    "Read in the mapping from  DrugCentral struct IDs from prescribed drugs (e.g. enalaprilat) to active metabolites when\n",
    "applicable (e.g. enalaprilat).  \n",
    "\n",
    "Using nomenclature from DrugCentral, although parent drug normally refers to the prodrug.  Here struct_id is the\n",
    "ID of the parent (enalapril) and struct_id_for_parent is the ID of the active metabolite (enalaprilat)"
   ]
  },
  {
   "cell_type": "code",
   "execution_count": 4,
   "metadata": {
    "collapsed": false,
    "jupyter": {
     "outputs_hidden": false
    },
    "pycharm": {
     "name": "#%%\n"
    }
   },
   "outputs": [
    {
     "data": {
      "text/html": [
       "<div>\n",
       "<style scoped>\n",
       "    .dataframe tbody tr th:only-of-type {\n",
       "        vertical-align: middle;\n",
       "    }\n",
       "\n",
       "    .dataframe tbody tr th {\n",
       "        vertical-align: top;\n",
       "    }\n",
       "\n",
       "    .dataframe thead th {\n",
       "        text-align: right;\n",
       "    }\n",
       "</style>\n",
       "<table border=\"1\" class=\"dataframe\">\n",
       "  <thead>\n",
       "    <tr style=\"text-align: right;\">\n",
       "      <th></th>\n",
       "      <th>struct_id</th>\n",
       "      <th>struct_name</th>\n",
       "      <th>parent_name</th>\n",
       "      <th>struct_id_for_parent</th>\n",
       "    </tr>\n",
       "  </thead>\n",
       "  <tbody>\n",
       "    <tr>\n",
       "      <th>0</th>\n",
       "      <td>27</td>\n",
       "      <td>azaribine</td>\n",
       "      <td>6-Azauridine</td>\n",
       "      <td>1000178</td>\n",
       "    </tr>\n",
       "    <tr>\n",
       "      <th>1</th>\n",
       "      <td>33</td>\n",
       "      <td>artisone acetate</td>\n",
       "      <td>artisone</td>\n",
       "      <td>1000035</td>\n",
       "    </tr>\n",
       "    <tr>\n",
       "      <th>2</th>\n",
       "      <td>47</td>\n",
       "      <td>acemetacin</td>\n",
       "      <td>indomethacin</td>\n",
       "      <td>1440</td>\n",
       "    </tr>\n",
       "    <tr>\n",
       "      <th>3</th>\n",
       "      <td>60</td>\n",
       "      <td>racecadotril</td>\n",
       "      <td>thiorphan</td>\n",
       "      <td>1000181</td>\n",
       "    </tr>\n",
       "    <tr>\n",
       "      <th>4</th>\n",
       "      <td>64</td>\n",
       "      <td>acetylcarnitine</td>\n",
       "      <td>levocarnitine</td>\n",
       "      <td>513</td>\n",
       "    </tr>\n",
       "  </tbody>\n",
       "</table>\n",
       "</div>"
      ],
      "text/plain": [
       "   struct_id       struct_name    parent_name  struct_id_for_parent\n",
       "0         27         azaribine   6-Azauridine               1000178\n",
       "1         33  artisone acetate       artisone               1000035\n",
       "2         47        acemetacin   indomethacin                  1440\n",
       "3         60      racecadotril      thiorphan               1000181\n",
       "4         64   acetylcarnitine  levocarnitine                   513"
      ]
     },
     "execution_count": 4,
     "metadata": {},
     "output_type": "execute_result"
    }
   ],
   "source": [
    "drug_map_data = pd.read_csv(PATH_DATA_INPUT + 'parent_to_metabolite_map.txt',\n",
    "                            usecols=[0,1,3,4], index_col=False, sep='\\t',\n",
    "                            dtype={'struct_id': int, 'struct_id_for_parent': int})\n",
    "drug_map_data.head(5)"
   ]
  },
  {
   "cell_type": "code",
   "execution_count": 5,
   "metadata": {
    "collapsed": false,
    "jupyter": {
     "outputs_hidden": false
    },
    "pycharm": {
     "name": "#%%\n"
    }
   },
   "outputs": [],
   "source": [
    "# convert to dict of lists - there can be multiple active metabolites per drug\n",
    "drug_map = defaultdict(list)\n",
    "for row in drug_map_data.itertuples():\n",
    "    drug_map[row.struct_id].append(row.struct_id_for_parent)"
   ]
  },
  {
   "cell_type": "markdown",
   "metadata": {
    "pycharm": {
     "name": "#%% md\n"
    }
   },
   "source": [
    "We define assay groups, which are assays that are equivalent.  These may be assays that were run in-house vs. CROs\n",
    "for which compounds tested in both assays show them to be equivalent.  Assay groups may be defined at the level of targets\n",
    "- merge assays for the same target where assay results are strongly correlated, including different assay types\n",
    "(binding vs. antagonist)\n",
    "- or merge only assay results where both target and type are the same (binding vs. binding, antagonist vs. antagonist, etc).\n",
    "When combining at the target level, antagonist and agonist assays are not correlated so therefore don't get grouped."
   ]
  },
  {
   "cell_type": "code",
   "execution_count": 6,
   "metadata": {
    "collapsed": false,
    "jupyter": {
     "outputs_hidden": false
    },
    "pycharm": {
     "name": "#%%\n"
    }
   },
   "outputs": [
    {
     "data": {
      "text/html": [
       "<div>\n",
       "<style scoped>\n",
       "    .dataframe tbody tr th:only-of-type {\n",
       "        vertical-align: middle;\n",
       "    }\n",
       "\n",
       "    .dataframe tbody tr th {\n",
       "        vertical-align: top;\n",
       "    }\n",
       "\n",
       "    .dataframe thead th {\n",
       "        text-align: right;\n",
       "    }\n",
       "</style>\n",
       "<table border=\"1\" class=\"dataframe\">\n",
       "  <thead>\n",
       "    <tr style=\"text-align: right;\">\n",
       "      <th></th>\n",
       "      <th>cluster_name</th>\n",
       "      <th>cluster_assay_ids</th>\n",
       "      <th>assay_id</th>\n",
       "      <th>preferred_assay</th>\n",
       "      <th>merge_type</th>\n",
       "    </tr>\n",
       "  </thead>\n",
       "  <tbody>\n",
       "    <tr>\n",
       "      <th>0</th>\n",
       "      <td>ACHE</td>\n",
       "      <td>31589, 41631</td>\n",
       "      <td>31589</td>\n",
       "      <td>no</td>\n",
       "      <td>target</td>\n",
       "    </tr>\n",
       "    <tr>\n",
       "      <th>1</th>\n",
       "      <td>ACHE</td>\n",
       "      <td>31589, 41631</td>\n",
       "      <td>41631</td>\n",
       "      <td>yes</td>\n",
       "      <td>target</td>\n",
       "    </tr>\n",
       "    <tr>\n",
       "      <th>2</th>\n",
       "      <td>ADRA1A</td>\n",
       "      <td>3134, 5427, 5494, 18942, 41701</td>\n",
       "      <td>3134</td>\n",
       "      <td>no</td>\n",
       "      <td>target</td>\n",
       "    </tr>\n",
       "    <tr>\n",
       "      <th>3</th>\n",
       "      <td>ADRA1A</td>\n",
       "      <td>3134, 5427, 5494, 18942, 41701</td>\n",
       "      <td>5427</td>\n",
       "      <td>no</td>\n",
       "      <td>target</td>\n",
       "    </tr>\n",
       "    <tr>\n",
       "      <th>4</th>\n",
       "      <td>ADRA1A</td>\n",
       "      <td>3134, 5427, 5494, 18942, 41701</td>\n",
       "      <td>18942</td>\n",
       "      <td>no</td>\n",
       "      <td>target</td>\n",
       "    </tr>\n",
       "  </tbody>\n",
       "</table>\n",
       "</div>"
      ],
      "text/plain": [
       "  cluster_name               cluster_assay_ids  assay_id preferred_assay  \\\n",
       "0         ACHE                    31589, 41631     31589              no   \n",
       "1         ACHE                    31589, 41631     41631             yes   \n",
       "2       ADRA1A  3134, 5427, 5494, 18942, 41701      3134              no   \n",
       "3       ADRA1A  3134, 5427, 5494, 18942, 41701      5427              no   \n",
       "4       ADRA1A  3134, 5427, 5494, 18942, 41701     18942              no   \n",
       "\n",
       "  merge_type  \n",
       "0     target  \n",
       "1     target  \n",
       "2     target  \n",
       "3     target  \n",
       "4     target  "
      ]
     },
     "execution_count": 6,
     "metadata": {},
     "output_type": "execute_result"
    }
   ],
   "source": [
    "assay_combination_data = pd.read_csv(PATH_DATA_INPUT + 'merging_assays_preferred_annotation_pub.txt', sep='\\t')\n",
    "assay_combination_data.head(5)"
   ]
  },
  {
   "cell_type": "code",
   "execution_count": 7,
   "metadata": {
    "collapsed": false,
    "jupyter": {
     "outputs_hidden": false
    },
    "pycharm": {
     "name": "#%%\n"
    }
   },
   "outputs": [],
   "source": [
    "assay_vs_group = dict()\n",
    "assay_groups = defaultdict(dict)\n",
    "for r in assay_combination_data.itertuples():\n",
    "    if r.merge_type == 'target':  # analysis focus on target-type pairs (don't mix agonist / antagonist)\n",
    "        continue\n",
    "    assay_vs_group[r.assay_id] = r.cluster_assay_ids\n",
    "    assay_groups[r.cluster_assay_ids][r.assay_id] = 1 if r.preferred_assay == 'yes' else 0 "
   ]
  },
  {
   "cell_type": "markdown",
   "metadata": {},
   "source": [
    "Read in activity data file; at present there are several columns created in Spotfire for analysis there, \n",
    "but selection of preferred assay, preferred compound etc is performed here independently"
   ]
  },
  {
   "cell_type": "code",
   "execution_count": 8,
   "metadata": {
    "collapsed": false,
    "jupyter": {
     "outputs_hidden": false
    },
    "pycharm": {
     "name": "#%%\n"
    }
   },
   "outputs": [
    {
     "data": {
      "text/html": [
       "<div>\n",
       "<style scoped>\n",
       "    .dataframe tbody tr th:only-of-type {\n",
       "        vertical-align: middle;\n",
       "    }\n",
       "\n",
       "    .dataframe tbody tr th {\n",
       "        vertical-align: top;\n",
       "    }\n",
       "\n",
       "    .dataframe thead th {\n",
       "        text-align: right;\n",
       "    }\n",
       "</style>\n",
       "<table border=\"1\" class=\"dataframe\">\n",
       "  <thead>\n",
       "    <tr style=\"text-align: right;\">\n",
       "      <th></th>\n",
       "      <th>drugcentral_struct_id</th>\n",
       "      <th>struct_match_type</th>\n",
       "      <th>inchi_key</th>\n",
       "      <th>assay_id</th>\n",
       "      <th>assay_group_name</th>\n",
       "      <th>summarized prefix</th>\n",
       "      <th>summarized IC50</th>\n",
       "      <th>cmax_margin</th>\n",
       "      <th>free_cmax_margin</th>\n",
       "      <th>RowId</th>\n",
       "    </tr>\n",
       "  </thead>\n",
       "  <tbody>\n",
       "    <tr>\n",
       "      <th>0</th>\n",
       "      <td>2869</td>\n",
       "      <td>exact</td>\n",
       "      <td>ULSDMUVEXKOYBU-ZDUSSCGKSA-N</td>\n",
       "      <td>10942</td>\n",
       "      <td>PPARG antagonist</td>\n",
       "      <td>&gt;</td>\n",
       "      <td>30.0</td>\n",
       "      <td>581.395349</td>\n",
       "      <td>775.193798</td>\n",
       "      <td>14147</td>\n",
       "    </tr>\n",
       "    <tr>\n",
       "      <th>1</th>\n",
       "      <td>128</td>\n",
       "      <td>exact</td>\n",
       "      <td>WKEMJKQOLOHJLZ-UHFFFAOYSA-N</td>\n",
       "      <td>10942</td>\n",
       "      <td>PPARG antagonist</td>\n",
       "      <td>&gt;</td>\n",
       "      <td>30.0</td>\n",
       "      <td>177.514793</td>\n",
       "      <td>300.363440</td>\n",
       "      <td>14372</td>\n",
       "    </tr>\n",
       "    <tr>\n",
       "      <th>2</th>\n",
       "      <td>408</td>\n",
       "      <td>exact</td>\n",
       "      <td>ZDIGNSYAACHWNL-UHFFFAOYSA-N</td>\n",
       "      <td>10942</td>\n",
       "      <td>PPARG antagonist</td>\n",
       "      <td>&gt;</td>\n",
       "      <td>30.0</td>\n",
       "      <td>833.333333</td>\n",
       "      <td>2976.190476</td>\n",
       "      <td>14547</td>\n",
       "    </tr>\n",
       "    <tr>\n",
       "      <th>3</th>\n",
       "      <td>180</td>\n",
       "      <td>exact</td>\n",
       "      <td>KRMDCWKBEZIMAB-UHFFFAOYSA-N</td>\n",
       "      <td>10942</td>\n",
       "      <td>PPARG antagonist</td>\n",
       "      <td>&gt;</td>\n",
       "      <td>30.0</td>\n",
       "      <td>135.135135</td>\n",
       "      <td>3378.378378</td>\n",
       "      <td>15145</td>\n",
       "    </tr>\n",
       "    <tr>\n",
       "      <th>4</th>\n",
       "      <td>1675</td>\n",
       "      <td>exact</td>\n",
       "      <td>GWWLWDURRGNSRS-UHFFFAOYSA-N</td>\n",
       "      <td>10942</td>\n",
       "      <td>PPARG antagonist</td>\n",
       "      <td>&gt;</td>\n",
       "      <td>30.0</td>\n",
       "      <td>NaN</td>\n",
       "      <td>NaN</td>\n",
       "      <td>15355</td>\n",
       "    </tr>\n",
       "  </tbody>\n",
       "</table>\n",
       "</div>"
      ],
      "text/plain": [
       "   drugcentral_struct_id struct_match_type                    inchi_key  \\\n",
       "0                   2869             exact  ULSDMUVEXKOYBU-ZDUSSCGKSA-N   \n",
       "1                    128             exact  WKEMJKQOLOHJLZ-UHFFFAOYSA-N   \n",
       "2                    408             exact  ZDIGNSYAACHWNL-UHFFFAOYSA-N   \n",
       "3                    180             exact  KRMDCWKBEZIMAB-UHFFFAOYSA-N   \n",
       "4                   1675             exact  GWWLWDURRGNSRS-UHFFFAOYSA-N   \n",
       "\n",
       "   assay_id  assay_group_name summarized prefix  summarized IC50  cmax_margin  \\\n",
       "0     10942  PPARG antagonist                 >             30.0   581.395349   \n",
       "1     10942  PPARG antagonist                 >             30.0   177.514793   \n",
       "2     10942  PPARG antagonist                 >             30.0   833.333333   \n",
       "3     10942  PPARG antagonist                 >             30.0   135.135135   \n",
       "4     10942  PPARG antagonist                 >             30.0          NaN   \n",
       "\n",
       "   free_cmax_margin  RowId  \n",
       "0        775.193798  14147  \n",
       "1        300.363440  14372  \n",
       "2       2976.190476  14547  \n",
       "3       3378.378378  15145  \n",
       "4               NaN  15355  "
      ]
     },
     "execution_count": 8,
     "metadata": {},
     "output_type": "execute_result"
    }
   ],
   "source": [
    "activity_data = pd.read_csv(PATH_DATA_INPUT + 'final_summarized_activity_data_pub.txt',\n",
    "                            usecols=[0, 1, 2, 3, 5, 6, 7, 25, 26, 27],\n",
    "                            index_col=False, sep='\\t',\n",
    "                            dtype={'assay_id': int, 'drugcentral_struct_id': int})\n",
    "activity_data.head(5)"
   ]
  },
  {
   "cell_type": "code",
   "execution_count": 9,
   "metadata": {
    "collapsed": false,
    "jupyter": {
     "outputs_hidden": false
    },
    "pycharm": {
     "name": "#%%\n"
    }
   },
   "outputs": [
    {
     "name": "stdout",
     "output_type": "stream",
     "text": [
      "<class 'pandas.core.frame.DataFrame'>\n",
      "RangeIndex: 121097 entries, 0 to 121096\n",
      "Data columns (total 10 columns):\n",
      " #   Column                 Non-Null Count   Dtype  \n",
      "---  ------                 --------------   -----  \n",
      " 0   drugcentral_struct_id  121097 non-null  int64  \n",
      " 1   struct_match_type      121097 non-null  object \n",
      " 2   inchi_key              121097 non-null  object \n",
      " 3   assay_id               121097 non-null  int64  \n",
      " 4   assay_group_name       121097 non-null  object \n",
      " 5   summarized prefix      121097 non-null  object \n",
      " 6   summarized IC50        121097 non-null  float64\n",
      " 7   cmax_margin            77773 non-null   float64\n",
      " 8   free_cmax_margin       68650 non-null   float64\n",
      " 9   RowId                  121097 non-null  int64  \n",
      "dtypes: float64(3), int64(3), object(4)\n",
      "memory usage: 9.2+ MB\n"
     ]
    }
   ],
   "source": [
    "activity_data.info()"
   ]
  },
  {
   "cell_type": "markdown",
   "metadata": {
    "pycharm": {
     "name": "#%% md\n"
    }
   },
   "source": [
    "Many assays are either the only for a given target, or not sufficiently correlated with any other to merge them\n",
    "\n",
    "These need to be added to the assay_vs_group and assay_group data objects\n"
   ]
  },
  {
   "cell_type": "code",
   "execution_count": 10,
   "metadata": {
    "collapsed": false,
    "jupyter": {
     "outputs_hidden": false
    },
    "pycharm": {
     "name": "#%%\n"
    }
   },
   "outputs": [
    {
     "name": "stdout",
     "output_type": "stream",
     "text": [
      "Number of activity data records with assay group defined 121097\n"
     ]
    }
   ],
   "source": [
    "ares_ids = list(activity_data['assay_id'].unique())\n",
    "for id in ares_ids:\n",
    "    if assay_vs_group.get(id, None) is None:\n",
    "        assay_vs_group[id] = str(id)\n",
    "        assay_groups[str(id)][id] = 1  # defaulting to the preferred assay, a trivial result for a one assay group\n",
    "\n",
    "# add the assay group ID to the activity data frame\n",
    "activity_data['assay_group'] = activity_data['assay_id'].map(assay_vs_group)\n",
    "\n",
    "print('Number of activity data records with assay group defined {}'.format(len(activity_data['assay_group'].notnull())))"
   ]
  },
  {
   "cell_type": "markdown",
   "metadata": {},
   "source": [
    "## Algorithm for matching AEs for a prescribable product to activity data for the activate substance\n",
    "\n",
    "There are several levels of selection criteria\n",
    "\n",
    "In this analysis we use merging at the level of target-type groups (i.e. not mixing binding / antagonist results)\n",
    "\n",
    "To simplify selection of the best result for a prescription drug from AE resources (FAERS, SIDER) and a given\n",
    "target-type group (e.g. HTR2A-antagonist), increment a score as follows:\n",
    "\n",
    "1) We prefer activity data for parent drugs that have activity, or for the active metabolite in cases of drug/prodrug\n",
    "pairs.  Assign +1000 to the active metabolite in those cases where both the parent prodrug and active metabolite were\n",
    "tested (i.e. prefer enalaprilat over enalapril).  Sometimes, only the prodrug has activity data and we use this activity\n",
    "even though sub-optimal\n",
    "  \n",
    "2) For a given compound selected in #1, there are sometimes multiple Novartis samples that were tested.  This might\n",
    "include cases where a sample was racemic but the active drug is chiral.  There are cases where\n",
    "chemical structures differ slightly, with the most reasonable explanation being that a drawing error was made in\n",
    "registering a sample at Novarits.  The following hiearchy is used to select a sample for a given assay group vs. \n",
    "DrugCentral structure ID\n",
    "\n",
    "- select perfect matches: the INCHI key obtained on the DrugCentral smiles matches the key from a Novartis smiles (+100)\n",
    "- try to match without the protonation part of the key (e.g. graph + chirality - drop the part after second dash) (+90)\n",
    "- try to match using only the graph part of the key (up to first dash), but require a name or synonym match as well (+80) \n",
    "- try to match on name or synonym, and review structures.  This normally gets matches where structure drawing errors (+70)\n",
    "were made, either in DrugCentral or at Novartis registration (more likely) (+60)\n",
    "- there are a minimal number of remaining matches where there were no registered synonyms at Novartis.  These are\n",
    " typically things like natural products that are commonly drawn wrong (+50)\n",
    "\n",
    "3) When there are multiple results within the assay group, select those for the preferred assay (+10).  Preferred assays were \n",
    "selected within each group to ensure that an assay which accounts for most of the data is always selected. i.e. try to\n",
    "use the same assay as much as possible, and supplement with an equivalent assay within the group when necessary (preferred\n",
    "assay was not used for this drug)\n",
    "\n",
    "The arbitrary score assignments above ensure that selections at level 3 don't trump those at levels 1 or 2."
   ]
  },
  {
   "cell_type": "code",
   "execution_count": 11,
   "metadata": {
    "collapsed": false,
    "jupyter": {
     "outputs_hidden": false
    },
    "pycharm": {
     "name": "#%% \n"
    }
   },
   "outputs": [],
   "source": [
    "struct_match_score = {\n",
    "    'exact': 100,\n",
    "    'chiral': 90,\n",
    "    'graph and name match': 80,\n",
    "    'graph and syn match': 80,\n",
    "    'name match and struct review': 70,\n",
    "    'high sim and struct review': 60,\n",
    "    'graph no syns': 50\n",
    "}"
   ]
  },
  {
   "cell_type": "code",
   "execution_count": 12,
   "metadata": {
    "collapsed": false,
    "jupyter": {
     "outputs_hidden": false
    },
    "pycharm": {
     "name": "#%%\n"
    }
   },
   "outputs": [],
   "source": [
    "def get_activity_records(drug, assay_grp):\n",
    "    \"\"\"\n",
    "    Function that finds the subset of rows relevant for a given drug vs. assay_grp pair and sorts according to criteria\n",
    "    described above\n",
    "    :param drug: drugcentral ID of the administered drug (prodrug, not active metabolite, when relevant)\n",
    "    :param assay_grp: a string for the given assays which produce similar results (merged assays)\n",
    "    :return: dataframe sorted by descending priority; returns None if no matches\n",
    "    \"\"\"\n",
    "    query_drugs = dict()\n",
    "    # these are the prodrugs to be prioritized over the parent (+1000 score to prodrugs)\n",
    "    if drug_map.get(drug, None) is not None:\n",
    "        query_drugs = {d: 1000 for d in drug_map[drug]}\n",
    "    query_drugs[drug] = 0\n",
    "    \n",
    "    activity_subset = activity_data[ (activity_data['drugcentral_struct_id'].isin(query_drugs)) & (activity_data['assay_group'] == assay_grp)].copy()\n",
    "    if len(activity_subset) == 0:\n",
    "        return None\n",
    "    elif len(activity_subset) > 1:\n",
    "        activity_subset['score'] = activity_subset['drugcentral_struct_id'].map(query_drugs) +\\\n",
    "                                   activity_subset['struct_match_type'].map(struct_match_score) +\\\n",
    "                                   activity_data['assay_id'].map(assay_groups[assay_grp])\n",
    "        activity_subset = activity_subset.sort_values(by='score', ascending=False)    \n",
    "\n",
    "    return activity_subset"
   ]
  },
  {
   "cell_type": "code",
   "execution_count": 13,
   "metadata": {
    "collapsed": false,
    "jupyter": {
     "outputs_hidden": false
    },
    "pycharm": {
     "name": "#%%\n"
    }
   },
   "outputs": [],
   "source": [
    "def get_best_activity_record(activity_records):\n",
    "    \"\"\"\n",
    "    Helper function that takes the first row in pandas dataframe from get_activity_records and returns a simple dictionary\n",
    "    :param activity_records: pandas dataframe from get_activity_records\n",
    "    :return: dictionary with keys prefix, ic50, cmax_margin, free_cmax_margin\n",
    "    \"\"\"\n",
    "    \n",
    "    ret = {'prefix': activity_records.iloc[0, 5],\n",
    "           'ic50':  activity_records.iloc[0, 6],\n",
    "           'cmax_margin':  activity_records.iloc[0, 7],\n",
    "           'free_cmax_margin':  activity_records.iloc[0, 8]\n",
    "           }\n",
    "\n",
    "    return ret"
   ]
  },
  {
   "cell_type": "markdown",
   "metadata": {},
   "source": [
    "Demonstrate the get_activity_records function - camazepam (drugcentral ID 469; not to be confused with carbamazepine) is a prodrug for temazepam (drugcentral ID 2585).  The algorithm should pick temazepam activity data)\n",
    "Both drugs were tested vs. human (ARES assay ID 3134) and rat Alpha1A (ARES assay ID 18942) receptors.  The human assay is preferred.\n",
    "The two assays are grouped into assay group  '3134, 18942' - it's a string containing comma-separated assay IDs, not a python list\n",
    "\n",
    "The first row in dataframe is drugcentral ID 2585 (temazepam) vs. assay ID 3134 (human version)"
   ]
  },
  {
   "cell_type": "code",
   "execution_count": 14,
   "metadata": {
    "collapsed": false,
    "jupyter": {
     "outputs_hidden": false
    },
    "pycharm": {
     "name": "#%%\n"
    }
   },
   "outputs": [
    {
     "data": {
      "text/html": [
       "<div>\n",
       "<style scoped>\n",
       "    .dataframe tbody tr th:only-of-type {\n",
       "        vertical-align: middle;\n",
       "    }\n",
       "\n",
       "    .dataframe tbody tr th {\n",
       "        vertical-align: top;\n",
       "    }\n",
       "\n",
       "    .dataframe thead th {\n",
       "        text-align: right;\n",
       "    }\n",
       "</style>\n",
       "<table border=\"1\" class=\"dataframe\">\n",
       "  <thead>\n",
       "    <tr style=\"text-align: right;\">\n",
       "      <th></th>\n",
       "      <th>drugcentral_struct_id</th>\n",
       "      <th>struct_match_type</th>\n",
       "      <th>inchi_key</th>\n",
       "      <th>assay_id</th>\n",
       "      <th>assay_group_name</th>\n",
       "      <th>summarized prefix</th>\n",
       "      <th>summarized IC50</th>\n",
       "      <th>cmax_margin</th>\n",
       "      <th>free_cmax_margin</th>\n",
       "      <th>RowId</th>\n",
       "      <th>assay_group</th>\n",
       "      <th>score</th>\n",
       "    </tr>\n",
       "  </thead>\n",
       "  <tbody>\n",
       "    <tr>\n",
       "      <th>24229</th>\n",
       "      <td>2585</td>\n",
       "      <td>exact</td>\n",
       "      <td>SEQDDYPDSLOBDC-UHFFFAOYSA-N</td>\n",
       "      <td>3134</td>\n",
       "      <td>ADRA1A Binding (NIBR assay)</td>\n",
       "      <td>&gt;</td>\n",
       "      <td>10.0</td>\n",
       "      <td>3.472222</td>\n",
       "      <td>86.805556</td>\n",
       "      <td>894133</td>\n",
       "      <td>3134, 18942</td>\n",
       "      <td>1101.0</td>\n",
       "    </tr>\n",
       "    <tr>\n",
       "      <th>24637</th>\n",
       "      <td>2585</td>\n",
       "      <td>exact</td>\n",
       "      <td>SEQDDYPDSLOBDC-UHFFFAOYSA-N</td>\n",
       "      <td>18942</td>\n",
       "      <td>ADRA1A Binding (NIBR assay)</td>\n",
       "      <td>&gt;</td>\n",
       "      <td>10.0</td>\n",
       "      <td>3.472222</td>\n",
       "      <td>86.805556</td>\n",
       "      <td>894208</td>\n",
       "      <td>3134, 18942</td>\n",
       "      <td>1100.0</td>\n",
       "    </tr>\n",
       "    <tr>\n",
       "      <th>23910</th>\n",
       "      <td>469</td>\n",
       "      <td>exact</td>\n",
       "      <td>PXBVEXGRHZFEOF-UHFFFAOYSA-N</td>\n",
       "      <td>3134</td>\n",
       "      <td>ADRA1A Binding (NIBR assay)</td>\n",
       "      <td>&gt;</td>\n",
       "      <td>10.0</td>\n",
       "      <td>NaN</td>\n",
       "      <td>NaN</td>\n",
       "      <td>275489</td>\n",
       "      <td>3134, 18942</td>\n",
       "      <td>101.0</td>\n",
       "    </tr>\n",
       "    <tr>\n",
       "      <th>24527</th>\n",
       "      <td>469</td>\n",
       "      <td>exact</td>\n",
       "      <td>PXBVEXGRHZFEOF-UHFFFAOYSA-N</td>\n",
       "      <td>18942</td>\n",
       "      <td>ADRA1A Binding (NIBR assay)</td>\n",
       "      <td>&gt;</td>\n",
       "      <td>10.0</td>\n",
       "      <td>NaN</td>\n",
       "      <td>NaN</td>\n",
       "      <td>275572</td>\n",
       "      <td>3134, 18942</td>\n",
       "      <td>100.0</td>\n",
       "    </tr>\n",
       "  </tbody>\n",
       "</table>\n",
       "</div>"
      ],
      "text/plain": [
       "       drugcentral_struct_id struct_match_type                    inchi_key  \\\n",
       "24229                   2585             exact  SEQDDYPDSLOBDC-UHFFFAOYSA-N   \n",
       "24637                   2585             exact  SEQDDYPDSLOBDC-UHFFFAOYSA-N   \n",
       "23910                    469             exact  PXBVEXGRHZFEOF-UHFFFAOYSA-N   \n",
       "24527                    469             exact  PXBVEXGRHZFEOF-UHFFFAOYSA-N   \n",
       "\n",
       "       assay_id             assay_group_name summarized prefix  \\\n",
       "24229      3134  ADRA1A Binding (NIBR assay)                 >   \n",
       "24637     18942  ADRA1A Binding (NIBR assay)                 >   \n",
       "23910      3134  ADRA1A Binding (NIBR assay)                 >   \n",
       "24527     18942  ADRA1A Binding (NIBR assay)                 >   \n",
       "\n",
       "       summarized IC50  cmax_margin  free_cmax_margin   RowId  assay_group  \\\n",
       "24229             10.0     3.472222         86.805556  894133  3134, 18942   \n",
       "24637             10.0     3.472222         86.805556  894208  3134, 18942   \n",
       "23910             10.0          NaN               NaN  275489  3134, 18942   \n",
       "24527             10.0          NaN               NaN  275572  3134, 18942   \n",
       "\n",
       "        score  \n",
       "24229  1101.0  \n",
       "24637  1100.0  \n",
       "23910   101.0  \n",
       "24527   100.0  "
      ]
     },
     "execution_count": 14,
     "metadata": {},
     "output_type": "execute_result"
    }
   ],
   "source": [
    "sample1 = get_activity_records(469, '3134, 18942')\n",
    "sample1.head(5)"
   ]
  },
  {
   "cell_type": "markdown",
   "metadata": {
    "pycharm": {
     "name": "#%% md\n"
    }
   },
   "source": [
    "Another example - beclometasone dipropionate (drugcentral ID 294) vs. beclometasone (id 1000142), also with lower quality structure\n",
    "matches from the Novartis sample vs. Drugcentral struct for beclometasone (but we prefer that over getting activity data from\n",
    "the prodrug beclometasone dipropionate)\n",
    "\n",
    "The first row in dataframe is drugcentral ID 1000142 (beclometasone) vs. assay ID 3088 (lower preference vs. assay 41625,\n",
    "but 41625 is activity data from beclometasone dipropionate).  Therefore an example where data comes from a lower quality\n",
    "structural match and lower preference assay, because it's the activity result where the active metabolite was tested"
   ]
  },
  {
   "cell_type": "code",
   "execution_count": 15,
   "metadata": {
    "collapsed": false,
    "jupyter": {
     "outputs_hidden": false
    },
    "pycharm": {
     "name": "#%%\n"
    }
   },
   "outputs": [
    {
     "data": {
      "text/html": [
       "<div>\n",
       "<style scoped>\n",
       "    .dataframe tbody tr th:only-of-type {\n",
       "        vertical-align: middle;\n",
       "    }\n",
       "\n",
       "    .dataframe tbody tr th {\n",
       "        vertical-align: top;\n",
       "    }\n",
       "\n",
       "    .dataframe thead th {\n",
       "        text-align: right;\n",
       "    }\n",
       "</style>\n",
       "<table border=\"1\" class=\"dataframe\">\n",
       "  <thead>\n",
       "    <tr style=\"text-align: right;\">\n",
       "      <th></th>\n",
       "      <th>drugcentral_struct_id</th>\n",
       "      <th>struct_match_type</th>\n",
       "      <th>inchi_key</th>\n",
       "      <th>assay_id</th>\n",
       "      <th>assay_group_name</th>\n",
       "      <th>summarized prefix</th>\n",
       "      <th>summarized IC50</th>\n",
       "      <th>cmax_margin</th>\n",
       "      <th>free_cmax_margin</th>\n",
       "      <th>RowId</th>\n",
       "      <th>assay_group</th>\n",
       "      <th>score</th>\n",
       "    </tr>\n",
       "  </thead>\n",
       "  <tbody>\n",
       "    <tr>\n",
       "      <th>9897</th>\n",
       "      <td>1000142</td>\n",
       "      <td>graph no syns</td>\n",
       "      <td>NBMKJKDGKREAPL-IJTKQNLUSA-N</td>\n",
       "      <td>3088</td>\n",
       "      <td>SLC6A3 Binding</td>\n",
       "      <td>&gt;</td>\n",
       "      <td>10.0</td>\n",
       "      <td>50000.0</td>\n",
       "      <td>384615.3846</td>\n",
       "      <td>430779</td>\n",
       "      <td>3088, 41625</td>\n",
       "      <td>1050.0</td>\n",
       "    </tr>\n",
       "    <tr>\n",
       "      <th>11357</th>\n",
       "      <td>294</td>\n",
       "      <td>graph and syn match</td>\n",
       "      <td>KUVIULQEHSCUHY-DDRZOEPZSA-N</td>\n",
       "      <td>41625</td>\n",
       "      <td>SLC6A3 Binding</td>\n",
       "      <td>&gt;</td>\n",
       "      <td>30.0</td>\n",
       "      <td>NaN</td>\n",
       "      <td>NaN</td>\n",
       "      <td>835980</td>\n",
       "      <td>3088, 41625</td>\n",
       "      <td>81.0</td>\n",
       "    </tr>\n",
       "    <tr>\n",
       "      <th>10256</th>\n",
       "      <td>294</td>\n",
       "      <td>graph and syn match</td>\n",
       "      <td>KUVIULQEHSCUHY-DDRZOEPZSA-N</td>\n",
       "      <td>3088</td>\n",
       "      <td>SLC6A3 Binding</td>\n",
       "      <td>&gt;</td>\n",
       "      <td>10.0</td>\n",
       "      <td>NaN</td>\n",
       "      <td>NaN</td>\n",
       "      <td>835915</td>\n",
       "      <td>3088, 41625</td>\n",
       "      <td>80.0</td>\n",
       "    </tr>\n",
       "  </tbody>\n",
       "</table>\n",
       "</div>"
      ],
      "text/plain": [
       "       drugcentral_struct_id    struct_match_type  \\\n",
       "9897                 1000142        graph no syns   \n",
       "11357                    294  graph and syn match   \n",
       "10256                    294  graph and syn match   \n",
       "\n",
       "                         inchi_key  assay_id assay_group_name  \\\n",
       "9897   NBMKJKDGKREAPL-IJTKQNLUSA-N      3088   SLC6A3 Binding   \n",
       "11357  KUVIULQEHSCUHY-DDRZOEPZSA-N     41625   SLC6A3 Binding   \n",
       "10256  KUVIULQEHSCUHY-DDRZOEPZSA-N      3088   SLC6A3 Binding   \n",
       "\n",
       "      summarized prefix  summarized IC50  cmax_margin  free_cmax_margin  \\\n",
       "9897                  >             10.0      50000.0       384615.3846   \n",
       "11357                 >             30.0          NaN               NaN   \n",
       "10256                 >             10.0          NaN               NaN   \n",
       "\n",
       "        RowId  assay_group   score  \n",
       "9897   430779  3088, 41625  1050.0  \n",
       "11357  835980  3088, 41625    81.0  \n",
       "10256  835915  3088, 41625    80.0  "
      ]
     },
     "execution_count": 15,
     "metadata": {},
     "output_type": "execute_result"
    }
   ],
   "source": [
    "sample2 = get_activity_records(294, '3088, 41625')\n",
    "sample2.head(5)"
   ]
  },
  {
   "cell_type": "code",
   "execution_count": 16,
   "metadata": {
    "collapsed": false,
    "jupyter": {
     "outputs_hidden": false
    },
    "pycharm": {
     "name": "#%%\n"
    }
   },
   "outputs": [
    {
     "name": "stdout",
     "output_type": "stream",
     "text": [
      "Best activity record from the first example is {'prefix': '>', 'ic50': 10.0, 'cmax_margin': 3.472222222, 'free_cmax_margin': 86.80555556}\n"
     ]
    }
   ],
   "source": [
    "simple_dict = get_best_activity_record(sample1)\n",
    "print('Best activity record from the first example is {}'.format(simple_dict))"
   ]
  },
  {
   "cell_type": "code",
   "execution_count": 17,
   "metadata": {
    "collapsed": false,
    "jupyter": {
     "outputs_hidden": false
    },
    "pycharm": {
     "name": "#%%\n"
    }
   },
   "outputs": [
    {
     "name": "stdout",
     "output_type": "stream",
     "text": [
      "Number of unique drugs with AE info 2365\n"
     ]
    }
   ],
   "source": [
    "unique_ae_drugs = AE_data['SIDER_DRUGS'] | AE_data['FAERS_DRUGS']\n",
    "print('Number of unique drugs with AE info', len(unique_ae_drugs))"
   ]
  },
  {
   "cell_type": "code",
   "execution_count": 18,
   "metadata": {
    "pycharm": {
     "name": "#%%\n"
    },
    "tags": []
   },
   "outputs": [
    {
     "name": "stdout",
     "output_type": "stream",
     "text": [
      "Done 1000 drug pairs\n",
      "Done 2000 drug pairs\n",
      "Done 3000 drug pairs\n",
      "Done 4000 drug pairs\n",
      "Done 5000 drug pairs\n",
      "Done 6000 drug pairs\n",
      "Done 7000 drug pairs\n",
      "Done 8000 drug pairs\n",
      "Done 9000 drug pairs\n",
      "Done 10000 drug pairs\n",
      "Done 11000 drug pairs\n",
      "Done 12000 drug pairs\n",
      "Done 13000 drug pairs\n",
      "Done 14000 drug pairs\n",
      "Done 15000 drug pairs\n",
      "Done 16000 drug pairs\n",
      "Done 17000 drug pairs\n",
      "Done 18000 drug pairs\n",
      "Done 19000 drug pairs\n",
      "Done 20000 drug pairs\n",
      "Done 21000 drug pairs\n",
      "Done 22000 drug pairs\n",
      "Done 23000 drug pairs\n",
      "Done 24000 drug pairs\n",
      "Done 25000 drug pairs\n",
      "Done 26000 drug pairs\n",
      "Done 27000 drug pairs\n",
      "Done 28000 drug pairs\n",
      "Done 29000 drug pairs\n",
      "Done 30000 drug pairs\n",
      "Done 31000 drug pairs\n",
      "Done 32000 drug pairs\n",
      "Done 33000 drug pairs\n",
      "Done 34000 drug pairs\n",
      "Done 35000 drug pairs\n",
      "Done 36000 drug pairs\n",
      "Done 37000 drug pairs\n",
      "Done 38000 drug pairs\n",
      "Done 39000 drug pairs\n",
      "Done 40000 drug pairs\n",
      "Done 41000 drug pairs\n",
      "Done 42000 drug pairs\n",
      "Done 43000 drug pairs\n",
      "Done 44000 drug pairs\n",
      "Done 45000 drug pairs\n",
      "Done 46000 drug pairs\n",
      "Done 47000 drug pairs\n",
      "Done 48000 drug pairs\n",
      "Done 49000 drug pairs\n",
      "Done 50000 drug pairs\n",
      "Done 51000 drug pairs\n",
      "Done 52000 drug pairs\n",
      "Done 53000 drug pairs\n",
      "Done 54000 drug pairs\n",
      "Done 55000 drug pairs\n",
      "Done 56000 drug pairs\n",
      "Done 57000 drug pairs\n",
      "Done 58000 drug pairs\n",
      "Done 59000 drug pairs\n",
      "Done 60000 drug pairs\n",
      "Done 61000 drug pairs\n",
      "Done 62000 drug pairs\n",
      "Done 63000 drug pairs\n",
      "Done 64000 drug pairs\n",
      "Done 65000 drug pairs\n",
      "Done 66000 drug pairs\n",
      "Done 67000 drug pairs\n",
      "Done 68000 drug pairs\n",
      "Done 69000 drug pairs\n",
      "Done 70000 drug pairs\n",
      "Done 71000 drug pairs\n",
      "Done 72000 drug pairs\n",
      "Done 73000 drug pairs\n",
      "Done 74000 drug pairs\n",
      "Done 75000 drug pairs\n",
      "Done 76000 drug pairs\n",
      "Done 77000 drug pairs\n",
      "Done 78000 drug pairs\n",
      "Done 79000 drug pairs\n",
      "Done 80000 drug pairs\n",
      "Done 81000 drug pairs\n",
      "Done 82000 drug pairs\n",
      "Done 83000 drug pairs\n",
      "Done 84000 drug pairs\n",
      "Done 85000 drug pairs\n",
      "Done 86000 drug pairs\n",
      "Done 87000 drug pairs\n",
      "Done 88000 drug pairs\n",
      "Done 89000 drug pairs\n",
      "Done 90000 drug pairs\n",
      "Done 91000 drug pairs\n",
      "Done 92000 drug pairs\n",
      "Done 93000 drug pairs\n",
      "Done 94000 drug pairs\n",
      "Number of drug vs. assay group pairs in dictionary: 94005\n"
     ]
    }
   ],
   "source": [
    "drug_activity_pairs = defaultdict(dict)\n",
    "count = 0\n",
    "\n",
    "# track the RowID() values in the final dataset for comparison back to input data\n",
    "retained_rowids = set()\n",
    "\n",
    "for a in assay_groups:\n",
    "\n",
    "    for d in unique_ae_drugs:\n",
    "        # function returns a dictionary\n",
    "        activity_subset = get_activity_records(d, a)\n",
    "        if activity_subset is None:\n",
    "            continue\n",
    "        drug_activity_pairs[a][d] = get_best_activity_record(activity_subset)\n",
    "        retained_rowids.add(activity_subset.iloc[0, 9])\n",
    "        count += 1\n",
    "        if count%1000 == 0:\n",
    "            print('Done {} drug pairs'.format(count))\n",
    "\n",
    "print('Number of drug vs. assay group pairs in dictionary: {}'.format(count))"
   ]
  },
  {
   "cell_type": "code",
   "execution_count": 19,
   "metadata": {
    "collapsed": false,
    "jupyter": {
     "outputs_hidden": false
    },
    "pycharm": {
     "name": "#%%\n"
    }
   },
   "outputs": [
    {
     "name": "stdout",
     "output_type": "stream",
     "text": [
      "Complete: Pickled training sets stored in activity_training_sets.pkl\n"
     ]
    }
   ],
   "source": [
    "# save the data structure as pickled object\n",
    "with open(PATH_DATA_INTERMEDIATE + 'activity_training_sets_pub.pkl', 'wb') as outf:\n",
    "    pickle.dump(drug_activity_pairs, outf, pickle.HIGHEST_PROTOCOL)\n",
    "\n",
    "print('Complete: Pickled training sets stored in activity_training_sets.pkl')"
   ]
  },
  {
   "cell_type": "code",
   "execution_count": 20,
   "metadata": {
    "collapsed": false,
    "jupyter": {
     "outputs_hidden": false
    },
    "pycharm": {
     "name": "#%%\n"
    }
   },
   "outputs": [
    {
     "name": "stdout",
     "output_type": "stream",
     "text": [
      "Number of row IDs from orignal dataset retained: 87200\n"
     ]
    }
   ],
   "source": [
    "# save the list of retained RowIDs to a file for cross-reference\n",
    "with open(PATH_DATA_INTERMEDIATE + 'retained_row_ids_pub.txt', 'w') as idf:\n",
    "    idf.writelines([str(x) + '\\n' for x in retained_rowids])\n",
    "\n",
    "print('Number of row IDs from orignal dataset retained: {}'.format(len(retained_rowids)))"
   ]
  }
 ],
 "metadata": {
  "kernelspec": {
   "display_name": "PythonDS v1.1",
   "language": "python",
   "name": "py_v1.1"
  },
  "language_info": {
   "codemirror_mode": {
    "name": "ipython",
    "version": 3
   },
   "file_extension": ".py",
   "mimetype": "text/x-python",
   "name": "python",
   "nbconvert_exporter": "python",
   "pygments_lexer": "ipython3",
   "version": "3.8.13"
  }
 },
 "nbformat": 4,
 "nbformat_minor": 4
}
