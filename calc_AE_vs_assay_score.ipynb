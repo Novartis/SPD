{
 "cells": [
  {
   "cell_type": "markdown",
   "metadata": {},
   "source": [
    "# Notebook #4"
   ]
  },
  {
   "cell_type": "markdown",
   "metadata": {},
   "source": [
    "Jeffrey Sutherland\n",
    "5/14/2021"
   ]
  },
  {
   "cell_type": "markdown",
   "metadata": {},
   "source": [
    "##### Output of this notebook is \"redundant\" and is post processed in spotifre"
   ]
  },
  {
   "cell_type": "code",
   "execution_count": 1,
   "metadata": {},
   "outputs": [],
   "source": [
    "import pandas as pd\n",
    "import numpy as np\n",
    "import pickle\n",
    "import numpy\n",
    "import os\n",
    "import pprint\n",
    "from scipy import stats\n",
    "from sklearn.metrics import auc, roc_curve, roc_auc_score"
   ]
  },
  {
   "cell_type": "code",
   "execution_count": 2,
   "metadata": {},
   "outputs": [],
   "source": [
    "PATH_DATA_INPUT = \"../data/input/\"\n",
    "PATH_DATA_INTERMEDIATE = \"../data/intermediate/\"\n",
    "PATH_DATA_OUTPUT = \"../data/output/\"\n",
    "PATH_MODELS = '../data/models/'"
   ]
  },
  {
   "cell_type": "code",
   "execution_count": 3,
   "metadata": {},
   "outputs": [],
   "source": [
    "# flag to get extra output\n",
    "testmode = False"
   ]
  },
  {
   "cell_type": "markdown",
   "metadata": {},
   "source": [
    "read the adverse event (FAERS, SIDER) positive and negatives from the pickled output of make_AE_training_sets.ipynb"
   ]
  },
  {
   "cell_type": "code",
   "execution_count": 4,
   "metadata": {},
   "outputs": [
    {
     "name": "stdout",
     "output_type": "stream",
     "text": [
      "Read in AE pickle; top level keys are dict_keys(['SIDER:PT', 'SIDER:HT', 'SIDER:HG', 'FAERS:PT', 'FAERS:HT', 'FAERS:HG', 'SIDER_DRUGS', 'FAERS_DRUGS'])\n"
     ]
    }
   ],
   "source": [
    "with open(PATH_DATA_INTERMEDIATE + 'AE_training_sets.pkl', 'rb') as inf:\n",
    "    AE_data = pickle.load(inf)\n",
    "\n",
    "print('Read in AE pickle; top level keys are {}'.format(AE_data.keys()))"
   ]
  },
  {
   "cell_type": "code",
   "execution_count": 5,
   "metadata": {},
   "outputs": [
    {
     "name": "stdout",
     "output_type": "stream",
     "text": [
      "Number of unique drugs with AE info 2365\n"
     ]
    }
   ],
   "source": [
    "unique_ae_drugs = AE_data['SIDER_DRUGS'] | AE_data['FAERS_DRUGS']\n",
    "print('Number of unique drugs with AE info', len(unique_ae_drugs))"
   ]
  },
  {
   "cell_type": "markdown",
   "metadata": {},
   "source": [
    "read the picked activity dataset from make_AE_vs_activity_dataset.ipynb"
   ]
  },
  {
   "cell_type": "code",
   "execution_count": 6,
   "metadata": {},
   "outputs": [
    {
     "name": "stdout",
     "output_type": "stream",
     "text": [
      "Read in assay pickle; number of assay groups at top level: 168\n"
     ]
    }
   ],
   "source": [
    "with open(PATH_DATA_INTERMEDIATE + 'activity_training_sets_pub.pkl', 'rb') as inf:\n",
    "    assay_data = pickle.load(inf)\n",
    "\n",
    "print('Read in assay pickle; number of assay groups at top level: {}'.format(len(assay_data)))"
   ]
  },
  {
   "cell_type": "markdown",
   "metadata": {},
   "source": [
    "Function to perform statistical tests between AE labels and activity data.\n",
    "\n",
    "When performing statistical associations between AEs and activity results, results with IC50 qualifier (and hence\n",
    "Cmax and free Cmax margin) are censored as follows\n",
    "\n",
    "- IC50 results: qualifier '>' or '=' and value >= 10 - use the value 10; qualifier '>' and value < 10: exclude \n",
    "- Cmax margin: qualifier '>' or '=' and value >= 2 - use the value 2; qualifier '>' and value < 2: exclude\n",
    "- free Cmax margin: qualifier '>' or '=' and value >= 10 - use the value 10; qualifier '>' and value < 10: exclude\n",
    "\n",
    "For Cmax and free Cmax margin - the values of 2 and 10 are approximately the 1st quartile among results with qualifier '>'\n",
    "\n",
    "Howeever, in the paper the cutoffs of 30, 10, and 100 were explored, too."
   ]
  },
  {
   "cell_type": "code",
   "execution_count": 7,
   "metadata": {},
   "outputs": [],
   "source": [
    "def run_stat_assoc(param, assay, pos, neg, cutoff_dict={\"ic50\": 30, \"cmax_margin\": 10, \"free_cmax_margin\": 100}):\n",
    "    \n",
    "    cutoff = cutoff_dict[param]\n",
    "    \n",
    "    result = dict()\n",
    "    simplified = dict()\n",
    "    both = pos | neg\n",
    "\n",
    "    nonqual_vals = 0\n",
    "    for c in both:\n",
    "        if assay_data[assay].get(c, None) is None:\n",
    "            # no data\n",
    "            continue\n",
    "        elif assay_data[assay][c][param] is None or numpy.isnan(assay_data[assay][c][param]):\n",
    "            # happens for Cmax or free Cmax where IC50 was avail but not the exposure, hence these are NaN\n",
    "            continue\n",
    "        elif assay_data[assay][c]['prefix'] == '>' and assay_data[assay][c][param] < cutoff:\n",
    "            continue\n",
    "        elif assay_data[assay][c][param] > cutoff:\n",
    "            simplified[c] = cutoff\n",
    "        else:\n",
    "            simplified[c] = assay_data[assay][c][param]\n",
    "            nonqual_vals += 1\n",
    "\n",
    "    pos_vals = list(map(lambda x: simplified[x], filter(lambda x: simplified.get(x, None) is not None, pos)))\n",
    "    neg_vals = list(map(lambda x: simplified[x], filter(lambda x: simplified.get(x, None) is not None, neg)))\n",
    "\n",
    "    # check constraints on min # of pos, neg, after filtering on qualifier\n",
    "    if len(pos_vals) <10 or len(neg_vals) < 50 or nonqual_vals < 10:\n",
    "        return None\n",
    "\n",
    "    result['n_pos'] = len(pos_vals)\n",
    "    result['n_neg'] = len(neg_vals)\n",
    "    result['median_pos'] =  np.percentile(pos_vals, 50)\n",
    "    result['median_neg'] = np.percentile(neg_vals, 50)\n",
    "    result['Q1_pos'] = np.percentile(pos_vals, 25)\n",
    "    result['Q1_neg'] = np.percentile(neg_vals, 25)\n",
    "    result['P10_pos'] = np.percentile(pos_vals, 10)\n",
    "    result['P10_neg'] = np.percentile(neg_vals, 10)\n",
    "\n",
    "    # skip further stat computations if none of the quantiles are smaller for drugs with the adverse event vs. those without\n",
    "    if result['median_pos'] >= result['median_neg'] and result['Q1_pos'] >= result['Q1_neg'] and result['P10_pos'] >= result['P10_neg']:\n",
    "        return None\n",
    "\n",
    "    # perform KW-test\n",
    "    kw = stats.kruskal(pos_vals, neg_vals)\n",
    "    result['kw_hstat'] = kw[0]\n",
    "    result['kw_pvalue']= kw[1]\n",
    "\n",
    "    # get ROC curve\n",
    "    y_actual = [1 for x in neg_vals] + [2 for x in pos_vals]\n",
    "    y_pred = [1/x for x in neg_vals + pos_vals]\n",
    "    # invert the values to ensure that standard interpretation applies (predicted positive above threshold)\n",
    "    # i.e small IC50 or margin means predicted positive\n",
    "\n",
    "    result['roc_auc'] = roc_auc_score(y_actual, y_pred)\n",
    "    result['roc_auc_partial'] = roc_auc_score(y_actual, y_pred, max_fpr=0.2)\n",
    "\n",
    "    return result"
   ]
  },
  {
   "cell_type": "code",
   "execution_count": 8,
   "metadata": {},
   "outputs": [],
   "source": [
    "testmode = False\n",
    "test = [10013457]\n",
    "sources = ['FAERS', 'SIDER']\n",
    "types = ['PT', 'HT', 'HG']\n",
    "\n",
    "# activity values get censored as follows\n",
    "cutoffs={\"ic50\": 10, \"cmax_margin\": 2, \"free_cmax_margin\": 10}\n",
    "\n",
    "test_AE_annot = list()\n",
    "\n",
    "# dataframe to accumulate stats on AE vs. assay pair\n",
    "allresults = list()\n",
    "\n",
    "# track the drugs that are 1) positive for AE, 2) below the median (margin or IC50) for positive drugs and 3)\n",
    "# have KW-pvalue < 1e-05 and either ROC AUC > 0.7\n",
    "posdrugs = list()\n",
    "\n",
    "for source in sources:\n",
    "    for tp in types:\n",
    "        pair = source + ':' + tp\n",
    "        if AE_data.get(pair, None) is None:\n",
    "            print('Failed to find AE info for pair {}; skipping'.format(pair))\n",
    "            continue\n",
    "        for code in AE_data[pair]:\n",
    "\n",
    "            if testmode and code not in test:\n",
    "                continue\n",
    "\n",
    "            pos = AE_data[pair][code]['pos']\n",
    "            neg = AE_data[pair][code]['neg']\n",
    "            if testmode:\n",
    "                test_AE_annot += [{'type': tp, 'source': source, 'code': code, 'class': 'pos', 'drug_id': x} for x in pos]\n",
    "                test_AE_annot += [{'type': tp, 'source': source, 'code': code, 'class': 'neg', 'drug_id': x} for x in neg]\n",
    "\n",
    "            for a in assay_data:\n",
    "\n",
    "                # pre-check on having at least 10 positives\n",
    "                pos_w_data = list(filter(lambda x: assay_data[a].get(x, None) is not None, pos))\n",
    "                if len(pos_w_data) < 10:\n",
    "                    continue   \n",
    "\n",
    "                for param in ['ic50', 'cmax_margin', 'free_cmax_margin']:\n",
    "                    result = run_stat_assoc(param, a, pos, neg, cutoff_dict=cutoffs)\n",
    "                    if result is None or result['kw_pvalue'] > 0.1:\n",
    "                        continue\n",
    "\n",
    "                    result.update({'source': source, 'type': tp, 'code': code, 'assay': a, 'param': param})\n",
    "                    allresults.append(result)\n",
    "\n",
    "                    # collect a list of drugs with activity below the median for drugs positive for AE when the assay vs. AE association is positive\n",
    "                    if result['kw_pvalue'] < 1e-05 and result['roc_auc'] > 0.7:\n",
    "                        for c in pos:\n",
    "                            if assay_data[a].get(c, None) is None:\n",
    "                                # no data\n",
    "                                continue\n",
    "                            elif assay_data[a][c][param] is None or numpy.isnan(assay_data[a][c][param]):\n",
    "                                # happens for Cmax or free Cmax where IC50 was avail but not the exposure, hence these are NaN\n",
    "                                continue\n",
    "                            elif assay_data[a][c]['prefix'] == '=' and assay_data[a][c][param] < result['median_pos']:\n",
    "                                posdrugs.append({'drug': c, 'assay': a, 'code': code, 'source': pair, 'param': param, 'value': assay_data[a][c][param]})"
   ]
  },
  {
   "cell_type": "code",
   "execution_count": 9,
   "metadata": {},
   "outputs": [],
   "source": [
    "# write out the results\n",
    "df_all = pd.DataFrame(allresults)\n",
    "#df_all.to_csv('AE_vs_assay_associations_10_2_10_v3.csv', index=False)\n",
    "df_all.to_csv(PATH_DATA_OUTPUT + 'AE_vs_assay_associations_{}_{}_{}.csv'.format(\n",
    "                cutoffs['ic50'], cutoffs['cmax_margin'], cutoffs['free_cmax_margin']), index=False)"
   ]
  },
  {
   "cell_type": "code",
   "execution_count": 10,
   "metadata": {},
   "outputs": [],
   "source": [
    "# write out the drugs predicted to have AE via activity\n",
    "df_posdrugs = pd.DataFrame(posdrugs)\n",
    "#df_posdrugs.to_csv('AE_vs_assay_vs_pos_drug_triplets_10_2_10_v3.csv', index=False)\n",
    "df_posdrugs.to_csv(PATH_DATA_OUTPUT + 'AE_vs_assay_associations_{}_{}_{}.csv'.format(\n",
    "                    cutoffs['ic50'], cutoffs['cmax_margin'], cutoffs['cmax_margin']), index=False)"
   ]
  },
  {
   "cell_type": "code",
   "execution_count": 11,
   "metadata": {},
   "outputs": [],
   "source": [
    "# writing out content for diagnostic purposes\n",
    "if testmode:\n",
    "\n",
    "    # write out the assay dataset for investigation purposes\n",
    "    assay_out = list()\n",
    "    for a in assay_data:\n",
    "        for d in assay_data[a]:\n",
    "            assay_row = assay_data[a][d]\n",
    "            assay_row.update({'assay': a, 'drug_id': d})\n",
    "            assay_out.append(assay_row)\n",
    "\n",
    "    df_test_1 = pd.DataFrame(assay_out)\n",
    "    df_test_1.to_csv(PATH_DATA_OUTPUT + 'assay_data_10013457.csv', index=False)\n",
    "\n",
    "    # write out the two meddra codes of pos/neg assigments\n",
    "    df_test_2 = pd.DataFrame(test_AE_annot)\n",
    "    df_test_2.to_csv(PATH_DATA_OUTPUT + 'AE_assignments_10013457.csv', index=False)"
   ]
  }
 ],
 "metadata": {
  "kernelspec": {
   "display_name": "PythonDS v1.1",
   "language": "python",
   "name": "py_v1.1"
  },
  "language_info": {
   "codemirror_mode": {
    "name": "ipython",
    "version": 3
   },
   "file_extension": ".py",
   "mimetype": "text/x-python",
   "name": "python",
   "nbconvert_exporter": "python",
   "pygments_lexer": "ipython3",
   "version": "3.8.13"
  }
 },
 "nbformat": 4,
 "nbformat_minor": 4
}
