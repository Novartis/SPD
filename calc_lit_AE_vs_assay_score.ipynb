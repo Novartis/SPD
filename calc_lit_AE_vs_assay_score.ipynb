{
 "cells": [
  {
   "cell_type": "markdown",
   "metadata": {},
   "source": [
    "# Notebook #6"
   ]
  },
  {
   "cell_type": "markdown",
   "metadata": {},
   "source": [
    "Jeffrey Sutherland\n",
    "3/15/2022"
   ]
  },
  {
   "cell_type": "code",
   "execution_count": 1,
   "metadata": {
    "collapsed": false,
    "jupyter": {
     "outputs_hidden": false
    },
    "pycharm": {
     "name": "#%%\n"
    }
   },
   "outputs": [],
   "source": [
    "import pandas as pd\n",
    "import numpy as np\n",
    "import pickle\n",
    "import numpy\n",
    "import os\n",
    "from collections import defaultdict\n",
    "from scipy import stats\n",
    "from sklearn.metrics import auc, roc_curve, roc_auc_score"
   ]
  },
  {
   "cell_type": "code",
   "execution_count": 2,
   "metadata": {},
   "outputs": [],
   "source": [
    "PATH_DATA_INPUT = \"../data/input/\"\n",
    "PATH_DATA_INTERMEDIATE = \"../data/intermediate/\"\n",
    "PATH_DATA_OUTPUT = \"../data/output/\"\n",
    "PATH_MODELS = '../data/models/'"
   ]
  },
  {
   "cell_type": "markdown",
   "metadata": {},
   "source": [
    "read tab-delim file of literature-reported target-vs-AE pairs"
   ]
  },
  {
   "cell_type": "code",
   "execution_count": 3,
   "metadata": {
    "collapsed": false,
    "jupyter": {
     "outputs_hidden": false
    },
    "pycharm": {
     "name": "#%%\n"
    }
   },
   "outputs": [
    {
     "data": {
      "text/html": [
       "<div>\n",
       "<style scoped>\n",
       "    .dataframe tbody tr th:only-of-type {\n",
       "        vertical-align: middle;\n",
       "    }\n",
       "\n",
       "    .dataframe tbody tr th {\n",
       "        vertical-align: top;\n",
       "    }\n",
       "\n",
       "    .dataframe thead th {\n",
       "        text-align: right;\n",
       "    }\n",
       "</style>\n",
       "<table border=\"1\" class=\"dataframe\">\n",
       "  <thead>\n",
       "    <tr style=\"text-align: right;\">\n",
       "      <th></th>\n",
       "      <th>gene</th>\n",
       "      <th>literature_direction</th>\n",
       "      <th>meddra_code</th>\n",
       "      <th>meddra_name</th>\n",
       "      <th>meddra_type</th>\n",
       "      <th>combined_effect</th>\n",
       "      <th>Lit_association_ID</th>\n",
       "    </tr>\n",
       "  </thead>\n",
       "  <tbody>\n",
       "    <tr>\n",
       "      <th>0</th>\n",
       "      <td>ACHE</td>\n",
       "      <td>inhibition</td>\n",
       "      <td>10013654</td>\n",
       "      <td>Drug abuse</td>\n",
       "      <td>PT</td>\n",
       "      <td>abuse potential</td>\n",
       "      <td>1</td>\n",
       "    </tr>\n",
       "    <tr>\n",
       "      <th>1</th>\n",
       "      <td>ACHE</td>\n",
       "      <td>inhibition</td>\n",
       "      <td>10002974</td>\n",
       "      <td>Apnoea</td>\n",
       "      <td>PT</td>\n",
       "      <td>apnea</td>\n",
       "      <td>2</td>\n",
       "    </tr>\n",
       "    <tr>\n",
       "      <th>2</th>\n",
       "      <td>ACHE</td>\n",
       "      <td>inhibition</td>\n",
       "      <td>10003591</td>\n",
       "      <td>Ataxia</td>\n",
       "      <td>PT</td>\n",
       "      <td>ataxia</td>\n",
       "      <td>3</td>\n",
       "    </tr>\n",
       "    <tr>\n",
       "      <th>3</th>\n",
       "      <td>ACHE</td>\n",
       "      <td>inhibition</td>\n",
       "      <td>10003840</td>\n",
       "      <td>Autonomic nervous system imbalance</td>\n",
       "      <td>PT</td>\n",
       "      <td>autonomic dysfunction</td>\n",
       "      <td>4</td>\n",
       "    </tr>\n",
       "    <tr>\n",
       "      <th>4</th>\n",
       "      <td>ACHE</td>\n",
       "      <td>inhibition</td>\n",
       "      <td>10005734</td>\n",
       "      <td>Blood pressure decreased</td>\n",
       "      <td>PT</td>\n",
       "      <td>blood pressure decreased</td>\n",
       "      <td>5</td>\n",
       "    </tr>\n",
       "  </tbody>\n",
       "</table>\n",
       "</div>"
      ],
      "text/plain": [
       "   gene literature_direction  meddra_code                         meddra_name  \\\n",
       "0  ACHE           inhibition     10013654                          Drug abuse   \n",
       "1  ACHE           inhibition     10002974                              Apnoea   \n",
       "2  ACHE           inhibition     10003591                              Ataxia   \n",
       "3  ACHE           inhibition     10003840  Autonomic nervous system imbalance   \n",
       "4  ACHE           inhibition     10005734            Blood pressure decreased   \n",
       "\n",
       "  meddra_type           combined_effect  Lit_association_ID  \n",
       "0          PT           abuse potential                   1  \n",
       "1          PT                     apnea                   2  \n",
       "2          PT                    ataxia                   3  \n",
       "3          PT     autonomic dysfunction                   4  \n",
       "4          PT  blood pressure decreased                   5  "
      ]
     },
     "execution_count": 3,
     "metadata": {},
     "output_type": "execute_result"
    }
   ],
   "source": [
    "lit_pairs = pd.read_csv(PATH_DATA_INPUT + 'lit_target_AE_pairs.txt', sep='\\t')\n",
    "lit_pairs.head(5)"
   ]
  },
  {
   "cell_type": "markdown",
   "metadata": {},
   "source": [
    "read file mapping assay groups to genes"
   ]
  },
  {
   "cell_type": "code",
   "execution_count": 4,
   "metadata": {
    "collapsed": false,
    "jupyter": {
     "outputs_hidden": false
    },
    "pycharm": {
     "name": "#%%\n"
    }
   },
   "outputs": [
    {
     "data": {
      "text/html": [
       "<div>\n",
       "<style scoped>\n",
       "    .dataframe tbody tr th:only-of-type {\n",
       "        vertical-align: middle;\n",
       "    }\n",
       "\n",
       "    .dataframe tbody tr th {\n",
       "        vertical-align: top;\n",
       "    }\n",
       "\n",
       "    .dataframe thead th {\n",
       "        text-align: right;\n",
       "    }\n",
       "</style>\n",
       "<table border=\"1\" class=\"dataframe\">\n",
       "  <thead>\n",
       "    <tr style=\"text-align: right;\">\n",
       "      <th></th>\n",
       "      <th>assay_group_id</th>\n",
       "      <th>human_gene_symbol</th>\n",
       "    </tr>\n",
       "  </thead>\n",
       "  <tbody>\n",
       "    <tr>\n",
       "      <th>0</th>\n",
       "      <td>31149</td>\n",
       "      <td>ABCB11</td>\n",
       "    </tr>\n",
       "    <tr>\n",
       "      <th>1</th>\n",
       "      <td>31589, 41631</td>\n",
       "      <td>ACHE</td>\n",
       "    </tr>\n",
       "    <tr>\n",
       "      <th>2</th>\n",
       "      <td>3127</td>\n",
       "      <td>ADORA1</td>\n",
       "    </tr>\n",
       "    <tr>\n",
       "      <th>3</th>\n",
       "      <td>41607</td>\n",
       "      <td>ADORA1</td>\n",
       "    </tr>\n",
       "    <tr>\n",
       "      <th>4</th>\n",
       "      <td>3177</td>\n",
       "      <td>ADORA2A</td>\n",
       "    </tr>\n",
       "  </tbody>\n",
       "</table>\n",
       "</div>"
      ],
      "text/plain": [
       "  assay_group_id human_gene_symbol\n",
       "0          31149            ABCB11\n",
       "1   31589, 41631              ACHE\n",
       "2           3127            ADORA1\n",
       "3          41607            ADORA1\n",
       "4           3177           ADORA2A"
      ]
     },
     "execution_count": 4,
     "metadata": {},
     "output_type": "execute_result"
    }
   ],
   "source": [
    "assay_gene = pd.read_csv(PATH_DATA_INPUT + 'assay_group_vs_gene_map.txt', sep='\\t')\n",
    "assay_gene.head(5)"
   ]
  },
  {
   "cell_type": "markdown",
   "metadata": {},
   "source": [
    "read tab-delim file of meddra PTs mapping to HTs and HGLTs"
   ]
  },
  {
   "cell_type": "code",
   "execution_count": 5,
   "metadata": {
    "collapsed": false,
    "jupyter": {
     "outputs_hidden": false
    },
    "pycharm": {
     "name": "#%%\n"
    }
   },
   "outputs": [
    {
     "data": {
      "text/html": [
       "<div>\n",
       "<style scoped>\n",
       "    .dataframe tbody tr th:only-of-type {\n",
       "        vertical-align: middle;\n",
       "    }\n",
       "\n",
       "    .dataframe tbody tr th {\n",
       "        vertical-align: top;\n",
       "    }\n",
       "\n",
       "    .dataframe thead th {\n",
       "        text-align: right;\n",
       "    }\n",
       "</style>\n",
       "<table border=\"1\" class=\"dataframe\">\n",
       "  <thead>\n",
       "    <tr style=\"text-align: right;\">\n",
       "      <th></th>\n",
       "      <th>input_code</th>\n",
       "      <th>input_type</th>\n",
       "      <th>parent_code</th>\n",
       "      <th>parent_name</th>\n",
       "      <th>parent_type</th>\n",
       "      <th>CUI</th>\n",
       "    </tr>\n",
       "  </thead>\n",
       "  <tbody>\n",
       "    <tr>\n",
       "      <th>0</th>\n",
       "      <td>10000050</td>\n",
       "      <td>PT</td>\n",
       "      <td>10017927</td>\n",
       "      <td>Gastrointestinal and hepatobiliary procedural ...</td>\n",
       "      <td>HT</td>\n",
       "      <td>C0852238</td>\n",
       "    </tr>\n",
       "    <tr>\n",
       "      <th>1</th>\n",
       "      <td>10000050</td>\n",
       "      <td>PT</td>\n",
       "      <td>10034654</td>\n",
       "      <td>Peritoneal and retroperitoneal fibrosis and ad...</td>\n",
       "      <td>HT</td>\n",
       "      <td>C0851945</td>\n",
       "    </tr>\n",
       "    <tr>\n",
       "      <th>2</th>\n",
       "      <td>10000050</td>\n",
       "      <td>PT</td>\n",
       "      <td>10069888</td>\n",
       "      <td>Procedural related injuries and complications NEC</td>\n",
       "      <td>HG</td>\n",
       "      <td>C2748389</td>\n",
       "    </tr>\n",
       "    <tr>\n",
       "      <th>3</th>\n",
       "      <td>10000050</td>\n",
       "      <td>PT</td>\n",
       "      <td>10034652</td>\n",
       "      <td>Peritoneal and retroperitoneal conditions</td>\n",
       "      <td>HG</td>\n",
       "      <td>C0851466</td>\n",
       "    </tr>\n",
       "    <tr>\n",
       "      <th>4</th>\n",
       "      <td>10000050</td>\n",
       "      <td>PT</td>\n",
       "      <td>10022117</td>\n",
       "      <td>Injury, poisoning and procedural complications</td>\n",
       "      <td>OS</td>\n",
       "      <td>C0947733</td>\n",
       "    </tr>\n",
       "  </tbody>\n",
       "</table>\n",
       "</div>"
      ],
      "text/plain": [
       "   input_code input_type  parent_code  \\\n",
       "0    10000050         PT     10017927   \n",
       "1    10000050         PT     10034654   \n",
       "2    10000050         PT     10069888   \n",
       "3    10000050         PT     10034652   \n",
       "4    10000050         PT     10022117   \n",
       "\n",
       "                                         parent_name parent_type       CUI  \n",
       "0  Gastrointestinal and hepatobiliary procedural ...          HT  C0852238  \n",
       "1  Peritoneal and retroperitoneal fibrosis and ad...          HT  C0851945  \n",
       "2  Procedural related injuries and complications NEC          HG  C2748389  \n",
       "3          Peritoneal and retroperitoneal conditions          HG  C0851466  \n",
       "4     Injury, poisoning and procedural complications          OS  C0947733  "
      ]
     },
     "execution_count": 5,
     "metadata": {},
     "output_type": "execute_result"
    }
   ],
   "source": [
    "# this mapping was obtained using the UMLS API to map MedDRA preferred terms to HTs (high level terms) and HGs (high\n",
    "# level group terms).  Note that in UMLS HT is used instead of the more usual HLT abbreviation, and HG instead of HGLT\n",
    "parents = pd.read_csv(PATH_DATA_INPUT + 'terms_vs_parents.txt', sep='\\t')\n",
    "parents.head(5)"
   ]
  },
  {
   "cell_type": "markdown",
   "metadata": {},
   "source": [
    "read tab-delim file of meddra codes vs. names (all lookups on meddra code; only for making output easier to review)"
   ]
  },
  {
   "cell_type": "code",
   "execution_count": 6,
   "metadata": {
    "collapsed": false,
    "jupyter": {
     "outputs_hidden": false
    },
    "pycharm": {
     "name": "#%%\n"
    }
   },
   "outputs": [],
   "source": [
    "meddra_names_data = pd.read_csv(PATH_DATA_INPUT + 'codes_vs_names.txt', sep='\\t', index_col='meddra_code')\n",
    "meddra_names = meddra_names_data.to_dict('index')"
   ]
  },
  {
   "cell_type": "markdown",
   "metadata": {},
   "source": [
    "read tab-delim file providing targets of drugs in the database"
   ]
  },
  {
   "cell_type": "code",
   "execution_count": 7,
   "metadata": {
    "collapsed": false,
    "jupyter": {
     "outputs_hidden": false
    },
    "pycharm": {
     "name": "#%%\n"
    }
   },
   "outputs": [
    {
     "data": {
      "text/html": [
       "<div>\n",
       "<style scoped>\n",
       "    .dataframe tbody tr th:only-of-type {\n",
       "        vertical-align: middle;\n",
       "    }\n",
       "\n",
       "    .dataframe tbody tr th {\n",
       "        vertical-align: top;\n",
       "    }\n",
       "\n",
       "    .dataframe thead th {\n",
       "        text-align: right;\n",
       "    }\n",
       "</style>\n",
       "<table border=\"1\" class=\"dataframe\">\n",
       "  <thead>\n",
       "    <tr style=\"text-align: right;\">\n",
       "      <th></th>\n",
       "      <th>struct_id</th>\n",
       "      <th>name</th>\n",
       "      <th>action_type</th>\n",
       "      <th>EntrezGeneSymbol (NSPD)</th>\n",
       "      <th>action_type_simple</th>\n",
       "      <th>manual_add</th>\n",
       "    </tr>\n",
       "  </thead>\n",
       "  <tbody>\n",
       "    <tr>\n",
       "      <th>0</th>\n",
       "      <td>927</td>\n",
       "      <td>distigmine</td>\n",
       "      <td>INHIBITOR</td>\n",
       "      <td>ACHE</td>\n",
       "      <td>inhibitor</td>\n",
       "      <td>no</td>\n",
       "    </tr>\n",
       "    <tr>\n",
       "      <th>1</th>\n",
       "      <td>2551</td>\n",
       "      <td>tacrine</td>\n",
       "      <td>INHIBITOR</td>\n",
       "      <td>ACHE</td>\n",
       "      <td>inhibitor</td>\n",
       "      <td>no</td>\n",
       "    </tr>\n",
       "    <tr>\n",
       "      <th>2</th>\n",
       "      <td>1897</td>\n",
       "      <td>neostigmine</td>\n",
       "      <td>INHIBITOR</td>\n",
       "      <td>ACHE</td>\n",
       "      <td>inhibitor</td>\n",
       "      <td>no</td>\n",
       "    </tr>\n",
       "    <tr>\n",
       "      <th>3</th>\n",
       "      <td>946</td>\n",
       "      <td>donepezil</td>\n",
       "      <td>INHIBITOR</td>\n",
       "      <td>ACHE</td>\n",
       "      <td>inhibitor</td>\n",
       "      <td>no</td>\n",
       "    </tr>\n",
       "    <tr>\n",
       "      <th>4</th>\n",
       "      <td>2231</td>\n",
       "      <td>pralidoxime</td>\n",
       "      <td>ACTIVATOR</td>\n",
       "      <td>ACHE</td>\n",
       "      <td>activation</td>\n",
       "      <td>no</td>\n",
       "    </tr>\n",
       "  </tbody>\n",
       "</table>\n",
       "</div>"
      ],
      "text/plain": [
       "   struct_id         name action_type EntrezGeneSymbol (NSPD)  \\\n",
       "0        927   distigmine   INHIBITOR                    ACHE   \n",
       "1       2551      tacrine   INHIBITOR                    ACHE   \n",
       "2       1897  neostigmine   INHIBITOR                    ACHE   \n",
       "3        946    donepezil   INHIBITOR                    ACHE   \n",
       "4       2231  pralidoxime   ACTIVATOR                    ACHE   \n",
       "\n",
       "  action_type_simple manual_add  \n",
       "0          inhibitor         no  \n",
       "1          inhibitor         no  \n",
       "2          inhibitor         no  \n",
       "3          inhibitor         no  \n",
       "4         activation         no  "
      ]
     },
     "execution_count": 7,
     "metadata": {},
     "output_type": "execute_result"
    }
   ],
   "source": [
    "drug_target_pairs = pd.read_csv(PATH_DATA_INPUT + 'drugs_for_lit_targets.txt', sep='\\t')\n",
    "drug_target_pairs.head(5)"
   ]
  },
  {
   "cell_type": "markdown",
   "metadata": {},
   "source": [
    "read the adverse event (FAERS, SIDER) positive and negatives from the pickled output of make_AE_training_sets.ipynb"
   ]
  },
  {
   "cell_type": "code",
   "execution_count": 8,
   "metadata": {
    "collapsed": false,
    "jupyter": {
     "outputs_hidden": false
    },
    "pycharm": {
     "name": "#%%\n"
    }
   },
   "outputs": [
    {
     "name": "stdout",
     "output_type": "stream",
     "text": [
      "Read in AE pickle; top level keys are dict_keys(['SIDER:PT', 'SIDER:HT', 'SIDER:HG', 'FAERS:PT', 'FAERS:HT', 'FAERS:HG', 'SIDER_DRUGS', 'FAERS_DRUGS'])\n"
     ]
    }
   ],
   "source": [
    "with open(PATH_DATA_INTERMEDIATE + 'AE_training_sets.pkl', 'rb') as inf:\n",
    "    AE_data = pickle.load(inf)\n",
    "\n",
    "print('Read in AE pickle; top level keys are {}'.format(AE_data.keys()))"
   ]
  },
  {
   "cell_type": "code",
   "execution_count": 9,
   "metadata": {
    "collapsed": false,
    "jupyter": {
     "outputs_hidden": false
    },
    "pycharm": {
     "name": "#%%\n"
    }
   },
   "outputs": [
    {
     "name": "stdout",
     "output_type": "stream",
     "text": [
      "Number of unique drugs with AE info 2365\n"
     ]
    }
   ],
   "source": [
    "unique_ae_drugs = AE_data['SIDER_DRUGS'] | AE_data['FAERS_DRUGS']\n",
    "print('Number of unique drugs with AE info', len(unique_ae_drugs))"
   ]
  },
  {
   "cell_type": "markdown",
   "metadata": {},
   "source": [
    "read the picked activity dataset from make_AE_vs_activity_dataset.ipynb"
   ]
  },
  {
   "cell_type": "code",
   "execution_count": 10,
   "metadata": {
    "collapsed": false,
    "jupyter": {
     "outputs_hidden": false
    },
    "pycharm": {
     "name": "#%%\n"
    }
   },
   "outputs": [
    {
     "name": "stdout",
     "output_type": "stream",
     "text": [
      "Read in assay pickle; number of assay groups at top level: 168\n"
     ]
    }
   ],
   "source": [
    "with open(PATH_DATA_INTERMEDIATE + 'activity_training_sets_pub.pkl', 'rb') as inf:\n",
    "    assay_data = pickle.load(inf)\n",
    "\n",
    "print('Read in assay pickle; number of assay groups at top level: {}'.format(len(assay_data)))"
   ]
  },
  {
   "cell_type": "markdown",
   "metadata": {
    "pycharm": {
     "name": "#%% md\n"
    }
   },
   "source": [
    "Function to perform statistical tests between AE labels and activity data.\n",
    "\n",
    "When performing statistical associations between AEs and activity results, results with IC50 qualifier (and hence\n",
    "Cmax and free Cmax margin) are censored as follows\n",
    "\n",
    "- IC50 results: qualifier '>' or '=' and value >= 10 - use the value 10; qualifier '>' and value < 10: exclude \n",
    "- Cmax margin: qualifier '>' or '=' and value >= 2 - use the value 2; qualifier '>' and value < 2: exclude\n",
    "- free Cmax margin: qualifier '>' or '=' and value >= 10 - use the value 10; qualifier '>' and value < 10: exclude\n",
    "\n",
    "For Cmax and free Cmax margin - the values of 2 and 10 are approximately the 1st quartile among results with qualifier '>'"
   ]
  },
  {
   "cell_type": "code",
   "execution_count": 11,
   "metadata": {
    "collapsed": false,
    "jupyter": {
     "outputs_hidden": false
    },
    "pycharm": {
     "name": "#%%\n"
    }
   },
   "outputs": [],
   "source": [
    "def run_stat_assoc(param, assay, pos, neg, low_level=False, cutoff_dict={\"ic50\": 30, \"cmax_margin\": 10, \"free_cmax_margin\": 100}):\n",
    "    \n",
    "    # activity values get censored as follows\n",
    "    if low_level:\n",
    "        cutoff_dict.update({\"ic50\": 10, \"cmax_margin\": 2, \"free_cmax_margin\": 10})\n",
    "    cutoff = cutoff_dict[param]\n",
    "        \n",
    "    result = dict()\n",
    "    simplified = dict()\n",
    "    both = pos | neg\n",
    "\n",
    "    nonqual_vals = 0\n",
    "    ic50_lt_1um = 0\n",
    "    ic50_lt_500nm =0\n",
    "    ic50_lt_100nm = 0\n",
    "\n",
    "    for c in both:\n",
    "        if assay_data[assay].get(c, None) is None:\n",
    "            # no data\n",
    "            continue\n",
    "        elif assay_data[assay][c][param] is None or numpy.isnan(assay_data[assay][c][param]):\n",
    "            # happens for Cmax or free Cmax where IC50 was avail but not the exposure, hence these are NaN\n",
    "            continue\n",
    "        elif assay_data[assay][c]['prefix'] == '>' and assay_data[assay][c][param] < cutoff:\n",
    "            continue\n",
    "        elif assay_data[assay][c][param] > cutoff:\n",
    "            simplified[c] = cutoff\n",
    "        else:\n",
    "            simplified[c] = assay_data[assay][c][param]\n",
    "\n",
    "        if assay_data[assay][c]['prefix'] != '>':\n",
    "            nonqual_vals += 1\n",
    "\n",
    "            if  assay_data[assay][c]['ic50'] < 1:\n",
    "                ic50_lt_1um += 1\n",
    "            if  assay_data[assay][c]['ic50'] < 0.5:\n",
    "                ic50_lt_500nm += 1\n",
    "            if  assay_data[assay][c]['ic50'] < 0.1:\n",
    "                ic50_lt_100nm += 1\n",
    "\n",
    "    pos_vals = list(map(lambda x: simplified[x], filter(lambda x: simplified.get(x, None) is not None, pos)))\n",
    "    neg_vals = list(map(lambda x: simplified[x], filter(lambda x: simplified.get(x, None) is not None, neg)))\n",
    "    all_vals = pos_vals + neg_vals\n",
    "\n",
    "    # check constraints on min # of pos, neg, after filtering on qualifier\n",
    "    if len(pos_vals) <10 or len(neg_vals) < 50 or nonqual_vals < 5:\n",
    "        return None\n",
    "\n",
    "    result['n_pos'] = len(pos_vals)\n",
    "    result['n_neg'] = len(neg_vals)\n",
    "    result['nonqual_vals'] = nonqual_vals\n",
    "    result['median_pos'] =  np.percentile(pos_vals, 50)\n",
    "    result['median_neg'] = np.percentile(neg_vals, 50)\n",
    "    result['Q1_pos'] = np.percentile(pos_vals, 25)\n",
    "    result['Q1_neg'] = np.percentile(neg_vals, 25)\n",
    "    result['P10_pos'] = np.percentile(pos_vals, 10)\n",
    "    result['P10_neg'] = np.percentile(neg_vals, 10)\n",
    "    result['P5_pos'] = np.percentile(pos_vals, 5)\n",
    "    result['P5_neg'] = np.percentile(neg_vals, 5)\n",
    "\n",
    "    # extra quantities used for the Glmnet modelling\n",
    "    result['median_all'] =  np.percentile(all_vals, 50)\n",
    "    result['Q1_all'] = np.percentile(all_vals, 25)\n",
    "    result['P10_all'] = np.percentile(all_vals, 10)\n",
    "    result['P5_all'] = np.percentile(all_vals, 5)\n",
    "    result['P2.5_all'] = np.percentile(all_vals, 2.5)\n",
    "    result['n_ic50_lt_1um'] = ic50_lt_1um\n",
    "    result['n_ic50_lt_500nm'] = ic50_lt_500nm\n",
    "    result['n_ic50_lt_100nm'] = ic50_lt_100nm\n",
    "\n",
    "    # perform KW-test\n",
    "    try:\n",
    "        kw = stats.kruskal(pos_vals, neg_vals)\n",
    "        result['kw_hstat'] = kw[0]\n",
    "        result['kw_pvalue']= kw[1]\n",
    "    except ValueError:\n",
    "        result['kw_hstat'] = 0\n",
    "        result['kw_pvalue']= 1\n",
    "\n",
    "    # get ROC curve\n",
    "    y_actual = [1 for x in neg_vals] + [2 for x in pos_vals]\n",
    "    y_pred = [1/x for x in neg_vals + pos_vals]\n",
    "    result['roc_auc'] = roc_auc_score(y_actual, y_pred)\n",
    "\n",
    "    return result"
   ]
  },
  {
   "cell_type": "code",
   "execution_count": 12,
   "metadata": {
    "collapsed": false,
    "jupyter": {
     "outputs_hidden": false
    },
    "pycharm": {
     "name": "#%%\n"
    }
   },
   "outputs": [],
   "source": [
    "# dataframe to accumulate stats on AE vs. assay pair\n",
    "allresults = list()\n",
    "\n",
    "for row in lit_pairs.itertuples():\n",
    "\n",
    "    gene = row.gene\n",
    "    code = row.meddra_code\n",
    "    litid = row.Lit_association_ID\n",
    "    assays = list(assay_gene.loc[assay_gene['human_gene_symbol'] == gene, 'assay_group_id'].unique())\n",
    "\n",
    "    codes = dict()\n",
    "    mtype = row.meddra_type\n",
    "\n",
    "    # find all parent HT or HG terms given the current meddra code for this literature pair\n",
    "    hts = list()\n",
    "    if mtype == 'PT':\n",
    "        hts = list(parents.loc[(parents['parent_type'] == 'HT') & (parents['input_code'] == code), 'parent_code'].unique())\n",
    "        for t in hts:\n",
    "            codes[t] = 'HT'\n",
    "\n",
    "    if mtype == 'PT' or mtype == 'HT':\n",
    "        hgs = list(parents.loc[(parents['parent_type'] == 'HG') & (parents['input_code'] == code), 'parent_code'].unique())\n",
    "        for t in hgs:\n",
    "            codes[t] = 'HG'\n",
    "\n",
    "    # add back any PTs shared by the HT and HG terms of this literature-reported meddra code\n",
    "    hts_hgs = list(codes)\n",
    "    for c in hts_hgs:\n",
    "        pts = list(parents.loc[(parents['input_type'] == 'PT') & (parents['parent_code'] == c), 'input_code'].unique())\n",
    "        for t in pts:\n",
    "            codes[t] = 'PT'\n",
    "\n",
    "    # make sure the literature reported code is first\n",
    "    allcodes = [code] + list(codes)\n",
    "    best_pval = None\n",
    "\n",
    "    for c in codes:\n",
    "\n",
    "        # determine whether the literature code (code) and this code (c) share a HT (distance 1) or HG (distance 2)\n",
    "        hts_c = list(parents.loc[(parents['parent_type'] == 'HT') & (parents['input_code'] == c), 'parent_code'].unique())\n",
    "        intersect = list(set(hts) & set(hts_c))\n",
    "        if code == c:\n",
    "            dist = 0\n",
    "        elif intersect:\n",
    "            dist = 1\n",
    "        else:\n",
    "            dist = 2\n",
    "\n",
    "        for source in ['FAERS', 'SIDER']:\n",
    "            tp = codes[c]\n",
    "\n",
    "            pair = source + ':' + tp\n",
    "            if AE_data.get(pair, None) is None:\n",
    "                print('ERROR - Failed to find AE info for pair {}; skipping'.format(pair))\n",
    "                continue\n",
    "\n",
    "            if AE_data[pair].get(c, None) is None:\n",
    "                continue\n",
    "\n",
    "            pos = AE_data[pair][c]['pos']\n",
    "            neg = AE_data[pair][c]['neg']\n",
    "\n",
    "            for a in assays:\n",
    "                if assay_data.get(a, None) is None:\n",
    "                    print('ERROR - did not find assay group {}; skipping'.format(a))\n",
    "                    continue\n",
    "\n",
    "                # pre-check on having at least 10 positives\n",
    "                pos_w_data = list(filter(lambda x: assay_data[a].get(x, None) is not None, pos))\n",
    "                if len(pos_w_data) < 10:\n",
    "                    continue   \n",
    "\n",
    "                for level in ['low', 'high']:\n",
    "\n",
    "                    boollev = True if level == 'low' else False\n",
    "                    for param in ['ic50', 'cmax_margin', 'free_cmax_margin']:\n",
    "                        result = run_stat_assoc(param, a, pos, neg, boollev)\n",
    "                        if result is None:\n",
    "                            continue\n",
    "\n",
    "                        # if this is a literature-reported code, i.e. the exact meddra PT for the AE in literature,\n",
    "                        # record its p-value and require any other terms to exceed the significance\n",
    "                        if c == code and (best_pval is None or result['kw_pvalue'] < best_pval):\n",
    "                            best_pval = result['kw_pvalue']\n",
    "\n",
    "                        # dont' keep a result for a distant  term if it's not signficant\n",
    "                        if dist == 2 and result['kw_pvalue'] > 0.05:\n",
    "                            continue\n",
    "                        # don't keep a result if the term given in literature reviews is more significant\n",
    "                        elif c != code and best_pval is not None and result['kw_pvalue'] >= best_pval:\n",
    "                            continue\n",
    "\n",
    "                        on_target = 0\n",
    "                        off_target = 0\n",
    "\n",
    "                        # compile the count of active drugs that are on- vs. off- target\n",
    "                        for cpd in pos:\n",
    "                            if assay_data[a].get(cpd, None) is None:\n",
    "                                # no data\n",
    "                                continue\n",
    "                            elif assay_data[a][cpd][param] is None or numpy.isnan(assay_data[a][cpd][param]):\n",
    "                                # happens for Cmax or free Cmax where IC50 was avail but not the exposure, hence these are NaN\n",
    "                                continue\n",
    "                            elif assay_data[a][cpd]['prefix'] == '=' and assay_data[a][cpd][param] < result['median_pos']:\n",
    "                                drug_targets = list(drug_target_pairs.loc[drug_target_pairs['struct_id'] == cpd, 'EntrezGeneSymbol (NSPD)'].unique())\n",
    "                                if drug_targets and gene in drug_targets:\n",
    "                                    on_target += 1\n",
    "                                elif drug_targets:\n",
    "                                    off_target += 1\n",
    "\n",
    "                        result.update({'source': source, 'type': tp, 'lit_code': code, 'actual_code': c, 'actual_type': tp,\n",
    "                                       'dist': dist, 'assay': a, 'param': param, 'level': level, 'lit_id': litid, 'gene': gene,\n",
    "                                       'on_target': on_target, 'off_target': off_target,\n",
    "                                       'lit_name': meddra_names[code]['meddra_name'], 'actual_name': meddra_names[c]['meddra_name']})\n",
    "\n",
    "                        allresults.append(result)"
   ]
  },
  {
   "cell_type": "code",
   "execution_count": 13,
   "metadata": {
    "collapsed": false,
    "jupyter": {
     "outputs_hidden": false
    },
    "pycharm": {
     "name": "#%%\n"
    }
   },
   "outputs": [],
   "source": [
    "# write out the results\n",
    "df1 = pd.DataFrame(allresults)\n",
    "df1.to_csv(PATH_DATA_OUTPUT + 'lit_AE_vs_assay_associations_complete.csv', index=False)"
   ]
  },
  {
   "cell_type": "markdown",
   "metadata": {
    "pycharm": {
     "name": "#%% md\n"
    }
   },
   "source": [
    "This collection of related MedDRA codes was assembled by iteratively performing the following work (see next markdown block)"
   ]
  },
  {
   "cell_type": "code",
   "execution_count": 14,
   "metadata": {
    "collapsed": false,
    "jupyter": {
     "outputs_hidden": false
    },
    "pycharm": {
     "name": "#%%\n"
    }
   },
   "outputs": [
    {
     "data": {
      "text/html": [
       "<div>\n",
       "<style scoped>\n",
       "    .dataframe tbody tr th:only-of-type {\n",
       "        vertical-align: middle;\n",
       "    }\n",
       "\n",
       "    .dataframe tbody tr th {\n",
       "        vertical-align: top;\n",
       "    }\n",
       "\n",
       "    .dataframe thead th {\n",
       "        text-align: right;\n",
       "    }\n",
       "</style>\n",
       "<table border=\"1\" class=\"dataframe\">\n",
       "  <thead>\n",
       "    <tr style=\"text-align: right;\">\n",
       "      <th></th>\n",
       "      <th>lit_code</th>\n",
       "      <th>related_code</th>\n",
       "      <th>lit_name</th>\n",
       "      <th>related_name</th>\n",
       "    </tr>\n",
       "  </thead>\n",
       "  <tbody>\n",
       "    <tr>\n",
       "      <th>0</th>\n",
       "      <td>10001497</td>\n",
       "      <td>10001540</td>\n",
       "      <td>Agitation</td>\n",
       "      <td>Akathisia</td>\n",
       "    </tr>\n",
       "    <tr>\n",
       "      <th>1</th>\n",
       "      <td>10002034</td>\n",
       "      <td>10020969</td>\n",
       "      <td>Anemia</td>\n",
       "      <td>Hypochromic anemia</td>\n",
       "    </tr>\n",
       "    <tr>\n",
       "      <th>2</th>\n",
       "      <td>10002855</td>\n",
       "      <td>10001497</td>\n",
       "      <td>Anxiety</td>\n",
       "      <td>Agitation</td>\n",
       "    </tr>\n",
       "    <tr>\n",
       "      <th>3</th>\n",
       "      <td>10002855</td>\n",
       "      <td>10001540</td>\n",
       "      <td>Anxiety</td>\n",
       "      <td>Akathisia</td>\n",
       "    </tr>\n",
       "    <tr>\n",
       "      <th>4</th>\n",
       "      <td>10002974</td>\n",
       "      <td>10038669</td>\n",
       "      <td>Apnoea</td>\n",
       "      <td>Respiratory arrest</td>\n",
       "    </tr>\n",
       "  </tbody>\n",
       "</table>\n",
       "</div>"
      ],
      "text/plain": [
       "   lit_code  related_code   lit_name        related_name\n",
       "0  10001497      10001540  Agitation           Akathisia\n",
       "1  10002034      10020969     Anemia  Hypochromic anemia\n",
       "2  10002855      10001497    Anxiety           Agitation\n",
       "3  10002855      10001540    Anxiety           Akathisia\n",
       "4  10002974      10038669     Apnoea  Respiratory arrest"
      ]
     },
     "execution_count": 14,
     "metadata": {},
     "output_type": "execute_result"
    }
   ],
   "source": [
    "meddra_syns = pd.read_csv(PATH_DATA_INPUT + 'meddra_pair_synonyms_reviewed.txt', sep='\\t')\n",
    "meddra_syns.head(5)"
   ]
  },
  {
   "cell_type": "markdown",
   "metadata": {},
   "source": [
    "Go through results and list the most significant (by p-value) result for each Lit_association_ID\n",
    "\n",
    "- among results with dist = 0 (i.e. one of the MedDRA codes from the literature reviews), report the most significant\n",
    "by p-value among those with ROC AUC >= 0.6\n",
    "- if no results at dist 0 have p-value <= 1e-03 and ROC AUC >= 0.6, check all MedDRA codes sharing a given HT (dist = 1).\n",
    "- repeat with other codes sharing a given HG (dist = 2)\n",
    "- the pairings of literature-reported AE vs. related AE must be reviewed manually as some codes under an HT or HG can\n",
    "be irrelevant or opposite (e.g. heart rate increased and heart rate decreased share HT level terms)\n",
    "- only reviewed (validated) distance 1 or 2 terms are reported out as the selected results for a given literature ID\n",
    "- to cut down on manual review time, run code, review distance 1 terms and add to meddra_syns. Then run again,\n",
    "review distance 2 terms, add to meddra_syns.  Then final run.  There can be many matches to review at level 2"
   ]
  },
  {
   "cell_type": "code",
   "execution_count": 15,
   "metadata": {
    "collapsed": false,
    "jupyter": {
     "outputs_hidden": false
    },
    "pycharm": {
     "name": "#%%\n"
    }
   },
   "outputs": [],
   "source": [
    "new_pairs_review = defaultdict(dict)\n",
    "selected_results = list()\n",
    "\n",
    "for lid in lit_pairs['Lit_association_ID'].unique():\n",
    "\n",
    "    results_dist0_no_auc = sorted(filter(lambda x: x['dist'] == 0 and x['lit_id'] == lid, allresults), key=lambda x: x['kw_pvalue'])\n",
    "    total_tests = len(results_dist0_no_auc)\n",
    "    best_pval = None\n",
    "    selected_result = None\n",
    "    results_dist0 = list(filter(lambda x: x['roc_auc'] >= 0.6, results_dist0_no_auc))\n",
    "\n",
    "    if results_dist0:\n",
    "        best_pval = results_dist0[0]['kw_pvalue']\n",
    "\n",
    "        # already meets the sigificance threshold for Meddra term from literature reviews - no further action\n",
    "        if best_pval <= 0.001:\n",
    "            selected_result = results_dist0[0]\n",
    "            selected_result['total_tests'] = total_tests\n",
    "            selected_results.append(selected_result)\n",
    "            continue\n",
    "\n",
    "    # setup list of meddra codes related to the one from literature - these have been manually reviewed and need to be\n",
    "    # updated iteratively\n",
    "    lit_codes = list(lit_pairs.loc[lit_pairs['Lit_association_ID'] == lid, 'meddra_code'].unique())\n",
    "    valid_related_codes = list(meddra_syns.loc[meddra_syns['lit_code'].isin(lit_codes), 'related_code'].unique())\n",
    "\n",
    "    for dist in [1, 2]:\n",
    "\n",
    "        results_distx_no_auc = sorted(filter(lambda x: x['dist'] == dist and x['lit_id'] == lid and x['actual_code'] in valid_related_codes, allresults), key=lambda x: x['kw_pvalue'])\n",
    "        # only counting the tests for related meddra terms that have been manually reviewed (in valid_related_codes)\n",
    "        total_tests += len(results_distx_no_auc)\n",
    "\n",
    "        results_distx = list(filter(lambda x: x['roc_auc'] >= 0.6, results_distx_no_auc))\n",
    "        if results_distx and (best_pval is None or best_pval > results_distx[0]['kw_pvalue']):\n",
    "            best_pval = results_distx[0]['kw_pvalue']\n",
    "\n",
    "            if best_pval <= 0.001:\n",
    "                selected_result = results_distx[0]\n",
    "                selected_result['total_tests'] = total_tests\n",
    "                selected_results.append(selected_result)\n",
    "                break\n",
    "            else:\n",
    "                # just use the first of multiple (if any) meddra codes for this literature result; these are always\n",
    "                # similar (e.g. drug abuse/dependence per the review becomes 'Drug abuse' and 'Dependence')\n",
    "                results_distx_not_validated = sorted(filter(lambda x: x['dist'] == dist and x['lit_id'] == lid and x['actual_code'] not in valid_related_codes, allresults), key=lambda x: x['kw_pvalue'])\n",
    "\n",
    "                for r in results_distx_not_validated:\n",
    "                    if r['roc_auc'] >= 0.6 and r['kw_pvalue'] <= 0.001:\n",
    "                        new_pairs_review[r['lit_code']][r['actual_code']] = dist\n",
    "\n",
    "    if selected_result:\n",
    "        pass\n",
    "    # if we end up here, there were no distance 0 match or distance 1-2 matches with validated meddra code pairings\n",
    "    # that satisfied ROC AUC >= 0.6 and KW p-value <= 0.001.  Take the best distance 0 result by-value if it exists\n",
    "    elif results_dist0_no_auc:\n",
    "        selected_result = results_dist0_no_auc[0]\n",
    "        selected_result['total_tests'] = total_tests\n",
    "        selected_results.append(selected_result)\n",
    "    # There can be cases where there were no distance 0 results, i.e. the literature-reported meddra code didn't\n",
    "    # have at least 10 positives with assay data\n",
    "    else:\n",
    "        lit_codes = list(lit_pairs.loc[lit_pairs['Lit_association_ID'] == lid, 'meddra_code'].unique())\n",
    "        valid_related_codes = list(meddra_syns.loc[meddra_syns['lit_code'].isin(lit_codes), 'related_code'].unique())\n",
    "        results_distx_no_auc = sorted(filter(lambda x: x['dist'] != 0 and x['lit_id'] == lid and x['actual_code'] in valid_related_codes, allresults), key=lambda x: x['kw_pvalue'])\n",
    "        if results_distx_no_auc:\n",
    "            selected_result = results_distx_no_auc[0]\n",
    "            selected_result['total_tests'] = total_tests\n",
    "            selected_results.append(selected_result)"
   ]
  },
  {
   "cell_type": "code",
   "execution_count": 16,
   "metadata": {
    "collapsed": false,
    "jupyter": {
     "outputs_hidden": false
    },
    "pycharm": {
     "name": "#%%\n"
    }
   },
   "outputs": [],
   "source": [
    "# write-out the selected result for each literature reported assay vs. ADR pair\n",
    "for r in selected_results:\n",
    "    # add in the meddra names to facilitate review\n",
    "\n",
    "    if meddra_names.get(r['lit_code'], None) is not None:\n",
    "        r['lit_name'] = meddra_names[r['lit_code']]['meddra_name']\n",
    "    else:\n",
    "        r['lit_name'] = ''\n",
    "\n",
    "    if meddra_names.get(r['actual_code'], None) is not None:\n",
    "        r['actual_name'] = meddra_names[r['actual_code']]['meddra_name']\n",
    "    else:\n",
    "        r['actual_name'] = ''\n",
    "\n",
    "df2 = pd.DataFrame(selected_results)\n",
    "df2.to_csv(PATH_DATA_OUTPUT + 'lit_AE_vs_assay_associations_selected.csv', index=False)"
   ]
  },
  {
   "cell_type": "code",
   "execution_count": 17,
   "metadata": {
    "collapsed": false,
    "jupyter": {
     "outputs_hidden": false
    },
    "pycharm": {
     "name": "#%%\n"
    }
   },
   "outputs": [],
   "source": [
    "# write-out pairs of literature vs. distance 1 or 2 meddra codes to review as being resonably related\n",
    "terms_review_list = list()\n",
    "for code in new_pairs_review:\n",
    "\n",
    "    name = ''\n",
    "    if meddra_names.get(code, None) is not None:\n",
    "        name = meddra_names[code]['meddra_name']\n",
    "\n",
    "    for relcode in new_pairs_review[code]:\n",
    "\n",
    "        relname = ''\n",
    "        if meddra_names.get(relcode, None) is not None:\n",
    "            relname = meddra_names[relcode]['meddra_name']\n",
    "\n",
    "        terms_review_list.append({'code': code, 'name': name, 'related_code': relcode, 'related_name': relname, 'dist': new_pairs_review[code][relcode]})\n",
    "\n",
    "df3 = pd.DataFrame(terms_review_list)\n",
    "df3.to_csv(PATH_DATA_OUTPUT + 'lit_vs_related_meddra_code_review.csv', index=False)"
   ]
  }
 ],
 "metadata": {
  "kernelspec": {
   "display_name": "PythonDS v1.1",
   "language": "python",
   "name": "py_v1.1"
  },
  "language_info": {
   "codemirror_mode": {
    "name": "ipython",
    "version": 3
   },
   "file_extension": ".py",
   "mimetype": "text/x-python",
   "name": "python",
   "nbconvert_exporter": "python",
   "pygments_lexer": "ipython3",
   "version": "3.8.13"
  }
 },
 "nbformat": 4,
 "nbformat_minor": 4
}
